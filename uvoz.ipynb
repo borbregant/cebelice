{
 "cells": [
  {
   "attachments": {},
   "cell_type": "markdown",
   "metadata": {},
   "source": [
    "# Uvoz podatkov"
   ]
  },
  {
   "cell_type": "code",
   "execution_count": 191,
   "metadata": {},
   "outputs": [],
   "source": [
    "import numpy as np\n",
    "import pandas as pd\n",
    "import glob\n",
    "import matplotlib.pyplot as plt\n",
    "import requests\n",
    "from datetime import datetime\n",
    "import seaborn as sns\n",
    "import os.path"
   ]
  },
  {
   "attachments": {},
   "cell_type": "markdown",
   "metadata": {},
   "source": [
    "Preberemo csv"
   ]
  },
  {
   "cell_type": "code",
   "execution_count": 192,
   "metadata": {},
   "outputs": [
    {
     "name": "stderr",
     "output_type": "stream",
     "text": [
      "C:\\Users\\borbr\\AppData\\Local\\Temp\\ipykernel_4064\\1397129172.py:3: DtypeWarning: Columns (3) have mixed types. Specify dtype option on import or set low_memory=False.\n",
      "  panj = pd.read_csv(r'./data/Table_V_Colony_inspection.csv')\n"
     ]
    }
   ],
   "source": [
    "path = \"./data/\"\n",
    "\n",
    "panj = pd.read_csv(r'./data/Table_V_Colony_inspection.csv')"
   ]
  },
  {
   "attachments": {},
   "cell_type": "markdown",
   "metadata": {},
   "source": [
    "Različne spremenljivke, ki jih ponuja dataset in struktura samega dataseta"
   ]
  },
  {
   "cell_type": "code",
   "execution_count": 193,
   "metadata": {},
   "outputs": [
    {
     "name": "stdout",
     "output_type": "stream",
     "text": [
      "['Number of worker brood cells' 'Number of adult bees' 'Number of eggs'\n",
      " 'Number of cells honey' 'Number of beebread cells' 'Number of larvae'\n",
      " 'Number of other cells' 'Number of cells nectar'\n",
      " 'Number of departing foragers' 'Number of returning foragers'\n",
      " 'Colony weight']\n"
     ]
    },
    {
     "data": {
      "text/html": [
       "<div>\n",
       "<style scoped>\n",
       "    .dataframe tbody tr th:only-of-type {\n",
       "        vertical-align: middle;\n",
       "    }\n",
       "\n",
       "    .dataframe tbody tr th {\n",
       "        vertical-align: top;\n",
       "    }\n",
       "\n",
       "    .dataframe thead th {\n",
       "        text-align: right;\n",
       "    }\n",
       "</style>\n",
       "<table border=\"1\" class=\"dataframe\">\n",
       "  <thead>\n",
       "    <tr style=\"text-align: right;\">\n",
       "      <th></th>\n",
       "      <th>resId</th>\n",
       "      <th>siteNo</th>\n",
       "      <th>hiveNo</th>\n",
       "      <th>frameNo</th>\n",
       "      <th>sampY</th>\n",
       "      <th>sampM</th>\n",
       "      <th>sampD</th>\n",
       "      <th>sampT</th>\n",
       "      <th>paramText</th>\n",
       "      <th>anMethText</th>\n",
       "      <th>resVal</th>\n",
       "      <th>resUnit</th>\n",
       "      <th>resUnit_desc</th>\n",
       "      <th>resValUncert</th>\n",
       "      <th>resValUncertSD</th>\n",
       "      <th>resQualValue</th>\n",
       "    </tr>\n",
       "  </thead>\n",
       "  <tbody>\n",
       "    <tr>\n",
       "      <th>0</th>\n",
       "      <td>CA83295</td>\n",
       "      <td>6</td>\n",
       "      <td>12</td>\n",
       "      <td>frame 2A</td>\n",
       "      <td>2020</td>\n",
       "      <td>6</td>\n",
       "      <td>20</td>\n",
       "      <td>11</td>\n",
       "      <td>Number of worker brood cells</td>\n",
       "      <td>Video and image analysis</td>\n",
       "      <td>0.0</td>\n",
       "      <td>G293A</td>\n",
       "      <td>comb cell</td>\n",
       "      <td>NaN</td>\n",
       "      <td>NaN</td>\n",
       "      <td>NaN</td>\n",
       "    </tr>\n",
       "    <tr>\n",
       "      <th>1</th>\n",
       "      <td>NAB7202</td>\n",
       "      <td>6</td>\n",
       "      <td>12</td>\n",
       "      <td>frame 3A</td>\n",
       "      <td>2020</td>\n",
       "      <td>4</td>\n",
       "      <td>8</td>\n",
       "      <td>12</td>\n",
       "      <td>Number of adult bees</td>\n",
       "      <td>Comb inspection</td>\n",
       "      <td>1700.0</td>\n",
       "      <td>G199A</td>\n",
       "      <td>animal</td>\n",
       "      <td>NaN</td>\n",
       "      <td>NaN</td>\n",
       "      <td>NaN</td>\n",
       "    </tr>\n",
       "    <tr>\n",
       "      <th>2</th>\n",
       "      <td>CA68341</td>\n",
       "      <td>1</td>\n",
       "      <td>1</td>\n",
       "      <td>frame 13B</td>\n",
       "      <td>2020</td>\n",
       "      <td>4</td>\n",
       "      <td>22</td>\n",
       "      <td>11</td>\n",
       "      <td>Number of worker brood cells</td>\n",
       "      <td>Video and image analysis</td>\n",
       "      <td>0.0</td>\n",
       "      <td>G293A</td>\n",
       "      <td>comb cell</td>\n",
       "      <td>NaN</td>\n",
       "      <td>NaN</td>\n",
       "      <td>NaN</td>\n",
       "    </tr>\n",
       "    <tr>\n",
       "      <th>3</th>\n",
       "      <td>CA90078</td>\n",
       "      <td>5</td>\n",
       "      <td>11</td>\n",
       "      <td>frame 15A</td>\n",
       "      <td>2020</td>\n",
       "      <td>5</td>\n",
       "      <td>22</td>\n",
       "      <td>12</td>\n",
       "      <td>Number of worker brood cells</td>\n",
       "      <td>Video and image analysis</td>\n",
       "      <td>0.0</td>\n",
       "      <td>G293A</td>\n",
       "      <td>comb cell</td>\n",
       "      <td>NaN</td>\n",
       "      <td>NaN</td>\n",
       "      <td>NaN</td>\n",
       "    </tr>\n",
       "    <tr>\n",
       "      <th>4</th>\n",
       "      <td>CA75191</td>\n",
       "      <td>6</td>\n",
       "      <td>11</td>\n",
       "      <td>frame 7B</td>\n",
       "      <td>2020</td>\n",
       "      <td>4</td>\n",
       "      <td>8</td>\n",
       "      <td>11</td>\n",
       "      <td>Number of eggs</td>\n",
       "      <td>Video and image analysis</td>\n",
       "      <td>15.0</td>\n",
       "      <td>G293A</td>\n",
       "      <td>comb cell</td>\n",
       "      <td>NaN</td>\n",
       "      <td>NaN</td>\n",
       "      <td>NaN</td>\n",
       "    </tr>\n",
       "  </tbody>\n",
       "</table>\n",
       "</div>"
      ],
      "text/plain": [
       "     resId  siteNo  hiveNo    frameNo  sampY  sampM  sampD  sampT  \\\n",
       "0  CA83295       6      12   frame 2A   2020      6     20     11   \n",
       "1  NAB7202       6      12   frame 3A   2020      4      8     12   \n",
       "2  CA68341       1       1  frame 13B   2020      4     22     11   \n",
       "3  CA90078       5      11  frame 15A   2020      5     22     12   \n",
       "4  CA75191       6      11   frame 7B   2020      4      8     11   \n",
       "\n",
       "                      paramText                anMethText  resVal resUnit  \\\n",
       "0  Number of worker brood cells  Video and image analysis     0.0   G293A   \n",
       "1          Number of adult bees           Comb inspection  1700.0   G199A   \n",
       "2  Number of worker brood cells  Video and image analysis     0.0   G293A   \n",
       "3  Number of worker brood cells  Video and image analysis     0.0   G293A   \n",
       "4                Number of eggs  Video and image analysis    15.0   G293A   \n",
       "\n",
       "  resUnit_desc  resValUncert  resValUncertSD  resQualValue  \n",
       "0    comb cell           NaN             NaN           NaN  \n",
       "1       animal           NaN             NaN           NaN  \n",
       "2    comb cell           NaN             NaN           NaN  \n",
       "3    comb cell           NaN             NaN           NaN  \n",
       "4    comb cell           NaN             NaN           NaN  "
      ]
     },
     "execution_count": 193,
     "metadata": {},
     "output_type": "execute_result"
    }
   ],
   "source": [
    "print(panj['paramText'].unique())\n",
    "panj.head()"
   ]
  },
  {
   "attachments": {},
   "cell_type": "markdown",
   "metadata": {},
   "source": [
    "Extractamo podatke o teži, ki so za nas relevantni"
   ]
  },
  {
   "cell_type": "code",
   "execution_count": 194,
   "metadata": {},
   "outputs": [],
   "source": [
    "panj = panj.loc[panj['paramText'] == \"Colony weight\"]"
   ]
  },
  {
   "cell_type": "code",
   "execution_count": 195,
   "metadata": {},
   "outputs": [],
   "source": [
    "#                                          Ta koda omogoča vpogled v samo eno leto oz. samo en mesec oz. samo en dan\n",
    "###         IZBRISI POTEM               ###\n",
    "#panj = panj.loc[panj['sampY'] == 2019]\n",
    "#panj = panj.loc[panj['sampM'] == 6]\n",
    "#panj = panj.loc[panj['sampD'] == 29]\n",
    "###         TEST                        ###"
   ]
  },
  {
   "attachments": {},
   "cell_type": "markdown",
   "metadata": {},
   "source": [
    "Uredimo časovno komponento"
   ]
  },
  {
   "cell_type": "code",
   "execution_count": 196,
   "metadata": {},
   "outputs": [],
   "source": [
    "panj = panj.rename(columns={'sampY': 'year', 'sampM': 'month', 'sampD': 'day', 'sampT': 'hour'})\n",
    "panj = panj[panj.day != 00] #neke meritve imajo dan 00, kar pythonu ni vsec\n",
    "panj[\"date\"] = pd.to_datetime(panj[['year', 'month', 'day', 'hour']])\n",
    "#panj[\"date\"] = pd.to_datetime(panj.year*10000+panj.month*100+panj.day+0.1*panj.day,format='%Y%m%d%H')\n",
    "panj = panj.drop(['year', \"month\", \"day\"], axis=1)"
   ]
  },
  {
   "attachments": {},
   "cell_type": "markdown",
   "metadata": {},
   "source": [
    "Extractamo samo en panj"
   ]
  },
  {
   "cell_type": "code",
   "execution_count": 197,
   "metadata": {},
   "outputs": [],
   "source": [
    "panj = panj.loc[panj['siteNo'] == 3]\n",
    "panj = panj.loc[panj['hiveNo'] == 1]"
   ]
  },
  {
   "cell_type": "code",
   "execution_count": 198,
   "metadata": {},
   "outputs": [
    {
     "data": {
      "text/html": [
       "<div>\n",
       "<style scoped>\n",
       "    .dataframe tbody tr th:only-of-type {\n",
       "        vertical-align: middle;\n",
       "    }\n",
       "\n",
       "    .dataframe tbody tr th {\n",
       "        vertical-align: top;\n",
       "    }\n",
       "\n",
       "    .dataframe thead th {\n",
       "        text-align: right;\n",
       "    }\n",
       "</style>\n",
       "<table border=\"1\" class=\"dataframe\">\n",
       "  <thead>\n",
       "    <tr style=\"text-align: right;\">\n",
       "      <th></th>\n",
       "      <th>resId</th>\n",
       "      <th>siteNo</th>\n",
       "      <th>hiveNo</th>\n",
       "      <th>frameNo</th>\n",
       "      <th>hour</th>\n",
       "      <th>paramText</th>\n",
       "      <th>anMethText</th>\n",
       "      <th>resVal</th>\n",
       "      <th>resUnit</th>\n",
       "      <th>resUnit_desc</th>\n",
       "      <th>resValUncert</th>\n",
       "      <th>resValUncertSD</th>\n",
       "      <th>resQualValue</th>\n",
       "      <th>date</th>\n",
       "    </tr>\n",
       "  </thead>\n",
       "  <tbody>\n",
       "    <tr>\n",
       "      <th>151242</th>\n",
       "      <td>CW207717</td>\n",
       "      <td>3</td>\n",
       "      <td>1</td>\n",
       "      <td>NaN</td>\n",
       "      <td>6</td>\n",
       "      <td>Colony weight</td>\n",
       "      <td>Automatic recording</td>\n",
       "      <td>24.7</td>\n",
       "      <td>G167A</td>\n",
       "      <td>Kilogram</td>\n",
       "      <td>NaN</td>\n",
       "      <td>NaN</td>\n",
       "      <td>NaN</td>\n",
       "      <td>2019-05-29 06:00:00</td>\n",
       "    </tr>\n",
       "    <tr>\n",
       "      <th>151243</th>\n",
       "      <td>CW207716</td>\n",
       "      <td>3</td>\n",
       "      <td>1</td>\n",
       "      <td>NaN</td>\n",
       "      <td>5</td>\n",
       "      <td>Colony weight</td>\n",
       "      <td>Automatic recording</td>\n",
       "      <td>24.7</td>\n",
       "      <td>G167A</td>\n",
       "      <td>Kilogram</td>\n",
       "      <td>NaN</td>\n",
       "      <td>NaN</td>\n",
       "      <td>NaN</td>\n",
       "      <td>2019-05-29 05:00:00</td>\n",
       "    </tr>\n",
       "    <tr>\n",
       "      <th>151244</th>\n",
       "      <td>CW207715</td>\n",
       "      <td>3</td>\n",
       "      <td>1</td>\n",
       "      <td>NaN</td>\n",
       "      <td>4</td>\n",
       "      <td>Colony weight</td>\n",
       "      <td>Automatic recording</td>\n",
       "      <td>24.7</td>\n",
       "      <td>G167A</td>\n",
       "      <td>Kilogram</td>\n",
       "      <td>NaN</td>\n",
       "      <td>NaN</td>\n",
       "      <td>NaN</td>\n",
       "      <td>2019-05-29 04:00:00</td>\n",
       "    </tr>\n",
       "    <tr>\n",
       "      <th>151245</th>\n",
       "      <td>CW207714</td>\n",
       "      <td>3</td>\n",
       "      <td>1</td>\n",
       "      <td>NaN</td>\n",
       "      <td>3</td>\n",
       "      <td>Colony weight</td>\n",
       "      <td>Automatic recording</td>\n",
       "      <td>24.7</td>\n",
       "      <td>G167A</td>\n",
       "      <td>Kilogram</td>\n",
       "      <td>NaN</td>\n",
       "      <td>NaN</td>\n",
       "      <td>NaN</td>\n",
       "      <td>2019-05-29 03:00:00</td>\n",
       "    </tr>\n",
       "    <tr>\n",
       "      <th>151246</th>\n",
       "      <td>CW207713</td>\n",
       "      <td>3</td>\n",
       "      <td>1</td>\n",
       "      <td>NaN</td>\n",
       "      <td>2</td>\n",
       "      <td>Colony weight</td>\n",
       "      <td>Automatic recording</td>\n",
       "      <td>24.7</td>\n",
       "      <td>G167A</td>\n",
       "      <td>Kilogram</td>\n",
       "      <td>NaN</td>\n",
       "      <td>NaN</td>\n",
       "      <td>NaN</td>\n",
       "      <td>2019-05-29 02:00:00</td>\n",
       "    </tr>\n",
       "  </tbody>\n",
       "</table>\n",
       "</div>"
      ],
      "text/plain": [
       "           resId  siteNo  hiveNo frameNo  hour      paramText  \\\n",
       "151242  CW207717       3       1     NaN     6  Colony weight   \n",
       "151243  CW207716       3       1     NaN     5  Colony weight   \n",
       "151244  CW207715       3       1     NaN     4  Colony weight   \n",
       "151245  CW207714       3       1     NaN     3  Colony weight   \n",
       "151246  CW207713       3       1     NaN     2  Colony weight   \n",
       "\n",
       "                 anMethText  resVal resUnit resUnit_desc  resValUncert  \\\n",
       "151242  Automatic recording    24.7   G167A     Kilogram           NaN   \n",
       "151243  Automatic recording    24.7   G167A     Kilogram           NaN   \n",
       "151244  Automatic recording    24.7   G167A     Kilogram           NaN   \n",
       "151245  Automatic recording    24.7   G167A     Kilogram           NaN   \n",
       "151246  Automatic recording    24.7   G167A     Kilogram           NaN   \n",
       "\n",
       "        resValUncertSD  resQualValue                date  \n",
       "151242             NaN           NaN 2019-05-29 06:00:00  \n",
       "151243             NaN           NaN 2019-05-29 05:00:00  \n",
       "151244             NaN           NaN 2019-05-29 04:00:00  \n",
       "151245             NaN           NaN 2019-05-29 03:00:00  \n",
       "151246             NaN           NaN 2019-05-29 02:00:00  "
      ]
     },
     "execution_count": 198,
     "metadata": {},
     "output_type": "execute_result"
    }
   ],
   "source": [
    "panj.head()"
   ]
  },
  {
   "attachments": {},
   "cell_type": "markdown",
   "metadata": {},
   "source": [
    "Narišemo graf teže skozi čas"
   ]
  },
  {
   "cell_type": "code",
   "execution_count": 199,
   "metadata": {},
   "outputs": [
    {
     "data": {
      "text/plain": [
       "[<matplotlib.lines.Line2D at 0x1f500a4a210>]"
      ]
     },
     "execution_count": 199,
     "metadata": {},
     "output_type": "execute_result"
    },
    {
     "data": {
      "image/png": "[encoded data removed]",
      "text/plain": [
       "<Figure size 640x480 with 1 Axes>"
      ]
     },
     "metadata": {},
     "output_type": "display_data"
    }
   ],
   "source": [
    "plt.plot(panj['date'], panj['resVal'], '*')"
   ]
  },
  {
   "attachments": {},
   "cell_type": "markdown",
   "metadata": {},
   "source": [
    "Še podatki o čebelarskem dnevniku"
   ]
  },
  {
   "cell_type": "code",
   "execution_count": 200,
   "metadata": {},
   "outputs": [],
   "source": [
    "panj2 = pd.read_csv(r'./data/Table_IV_Colony_management.csv')"
   ]
  },
  {
   "cell_type": "code",
   "execution_count": 201,
   "metadata": {},
   "outputs": [],
   "source": [
    "panj2 = panj2.rename(columns={'eventY': 'year', 'eventM': 'month', 'eventD': 'day'})\n",
    "panj2 = panj2[panj2.day != 00] #neke meritve imajo dan 00, kar pythonu ni vsec\n",
    "panj2[\"date\"] = pd.to_datetime(panj2[['year', 'month', 'day']])\n",
    "#panj[\"date\"] = pd.to_datetime(panj.year*10000+panj.month*100+panj.day+0.1*panj.day,format='%Y%m%d%H')\n",
    "panj2 = panj2.drop(['year', \"month\", \"day\", 'eventId', \"beeKeeperID\"], axis=1)"
   ]
  },
  {
   "attachments": {},
   "cell_type": "markdown",
   "metadata": {},
   "source": [
    "Spet nas zanima zgolj panj izbrane zgornje lokacije"
   ]
  },
  {
   "cell_type": "code",
   "execution_count": 202,
   "metadata": {},
   "outputs": [],
   "source": [
    "panj2 = panj2.loc[panj2['siteNo'] == 3]\n",
    "panj2 = panj2.loc[panj2['hiveNo'] == 1]\n",
    "panj2 = panj2.drop(['siteNo', \"hiveNo\"], axis=1)"
   ]
  },
  {
   "cell_type": "code",
   "execution_count": 203,
   "metadata": {},
   "outputs": [
    {
     "data": {
      "text/html": [
       "<div>\n",
       "<style scoped>\n",
       "    .dataframe tbody tr th:only-of-type {\n",
       "        vertical-align: middle;\n",
       "    }\n",
       "\n",
       "    .dataframe tbody tr th {\n",
       "        vertical-align: top;\n",
       "    }\n",
       "\n",
       "    .dataframe thead th {\n",
       "        text-align: right;\n",
       "    }\n",
       "</style>\n",
       "<table border=\"1\" class=\"dataframe\">\n",
       "  <thead>\n",
       "    <tr style=\"text-align: right;\">\n",
       "      <th></th>\n",
       "      <th>eventType</th>\n",
       "      <th>inoutType</th>\n",
       "      <th>inoutQuantity</th>\n",
       "      <th>inoutUnit</th>\n",
       "      <th>inoutUnit_desc</th>\n",
       "      <th>clinicalSigns</th>\n",
       "      <th>eventDescription</th>\n",
       "      <th>date</th>\n",
       "    </tr>\n",
       "  </thead>\n",
       "  <tbody>\n",
       "    <tr>\n",
       "      <th>68</th>\n",
       "      <td>CLINICAL SIGNS</td>\n",
       "      <td>NaN</td>\n",
       "      <td>NaN</td>\n",
       "      <td>NaN</td>\n",
       "      <td>.</td>\n",
       "      <td>Slumped larvae</td>\n",
       "      <td>NaN</td>\n",
       "      <td>2019-07-30</td>\n",
       "    </tr>\n",
       "    <tr>\n",
       "      <th>94</th>\n",
       "      <td>INPUT</td>\n",
       "      <td>Queen excluder</td>\n",
       "      <td>0.800</td>\n",
       "      <td>G167A</td>\n",
       "      <td>Kilogram</td>\n",
       "      <td>No clinical signs</td>\n",
       "      <td>NaN</td>\n",
       "      <td>2019-06-28</td>\n",
       "    </tr>\n",
       "    <tr>\n",
       "      <th>109</th>\n",
       "      <td>SAMPLE</td>\n",
       "      <td>NaN</td>\n",
       "      <td>NaN</td>\n",
       "      <td>NaN</td>\n",
       "      <td>.</td>\n",
       "      <td>No clinical signs</td>\n",
       "      <td>NaN</td>\n",
       "      <td>2019-07-31</td>\n",
       "    </tr>\n",
       "    <tr>\n",
       "      <th>214</th>\n",
       "      <td>OUTPUT</td>\n",
       "      <td>Brood comb</td>\n",
       "      <td>0.031</td>\n",
       "      <td>G167A</td>\n",
       "      <td>Kilogram</td>\n",
       "      <td>No clinical signs</td>\n",
       "      <td>NaN</td>\n",
       "      <td>2019-07-17</td>\n",
       "    </tr>\n",
       "    <tr>\n",
       "      <th>404</th>\n",
       "      <td>INPUT</td>\n",
       "      <td>Sucrose</td>\n",
       "      <td>14.700</td>\n",
       "      <td>G167A</td>\n",
       "      <td>Kilogram</td>\n",
       "      <td>No clinical signs</td>\n",
       "      <td>NaN</td>\n",
       "      <td>2019-08-11</td>\n",
       "    </tr>\n",
       "  </tbody>\n",
       "</table>\n",
       "</div>"
      ],
      "text/plain": [
       "          eventType       inoutType  inoutQuantity inoutUnit inoutUnit_desc  \\\n",
       "68   CLINICAL SIGNS             NaN            NaN       NaN              .   \n",
       "94            INPUT  Queen excluder          0.800     G167A       Kilogram   \n",
       "109          SAMPLE             NaN            NaN       NaN              .   \n",
       "214          OUTPUT      Brood comb          0.031     G167A       Kilogram   \n",
       "404           INPUT         Sucrose         14.700     G167A       Kilogram   \n",
       "\n",
       "         clinicalSigns eventDescription       date  \n",
       "68      Slumped larvae              NaN 2019-07-30  \n",
       "94   No clinical signs              NaN 2019-06-28  \n",
       "109  No clinical signs              NaN 2019-07-31  \n",
       "214  No clinical signs              NaN 2019-07-17  \n",
       "404  No clinical signs              NaN 2019-08-11  "
      ]
     },
     "execution_count": 203,
     "metadata": {},
     "output_type": "execute_result"
    }
   ],
   "source": [
    "panj2.head()"
   ]
  },
  {
   "attachments": {},
   "cell_type": "markdown",
   "metadata": {},
   "source": [
    "Narišemo graf inputov teže za predstavo"
   ]
  },
  {
   "attachments": {},
   "cell_type": "markdown",
   "metadata": {},
   "source": [
    "Najprej extractamo zgolj inpute in outpute"
   ]
  },
  {
   "cell_type": "code",
   "execution_count": 204,
   "metadata": {},
   "outputs": [],
   "source": [
    "panj2_output = panj2.loc[panj2['eventType'] == \"INPUT\"]\n",
    "panj2_input = panj2.loc[panj2['eventType'] == \"OUTPUT\"]\n",
    "\n",
    "panj2 = pd.concat([panj2_output, panj2_input])\n",
    "\n",
    "#panj2['RRR'] = panj2['RRR'] = vreme['RRR'].fillna(0)\n"
   ]
  },
  {
   "attachments": {},
   "cell_type": "markdown",
   "metadata": {},
   "source": [
    "Različne spremenljivke, ki jih ponujajo enote"
   ]
  },
  {
   "cell_type": "code",
   "execution_count": 205,
   "metadata": {},
   "outputs": [
    {
     "name": "stdout",
     "output_type": "stream",
     "text": [
      "[ 0.8   14.7    2.3    8.3    2.6    0.031  0.231]\n",
      "['Kilogram']\n"
     ]
    }
   ],
   "source": [
    "print(panj2['inoutQuantity'].unique())\n",
    "print(panj2['inoutUnit_desc'].unique())"
   ]
  },
  {
   "cell_type": "code",
   "execution_count": 206,
   "metadata": {},
   "outputs": [
    {
     "data": {
      "text/plain": [
       "<seaborn.axisgrid.FacetGrid at 0x1f500a38d10>"
      ]
     },
     "execution_count": 206,
     "metadata": {},
     "output_type": "execute_result"
    },
    {
     "data": {
      "image/png": "[encoded data removed]",
      "text/plain": [
       "<Figure size 406.5x300 with 1 Axes>"
      ]
     },
     "metadata": {},
     "output_type": "display_data"
    }
   ],
   "source": [
    "fg = sns.FacetGrid(data=panj2, hue='eventType')\n",
    "#fg.axes[0,0].set_xlabel(\"Datum\")\n",
    "#fg.axes[0,1].set_xlabel(\"Teža dodanega (odvzetega) [kg]\")\n",
    "#fg.title('Čebelarski dnevnik')\n",
    "fg.map(plt.scatter, 'date', 'inoutQuantity').add_legend()"
   ]
  },
  {
   "attachments": {},
   "cell_type": "markdown",
   "metadata": {},
   "source": [
    "# VREME iz http://rp5.am/Weather_archive_in_Flakkebjerg (lokacija izbranega panja)"
   ]
  },
  {
   "cell_type": "code",
   "execution_count": 207,
   "metadata": {},
   "outputs": [],
   "source": [
    "vreme = pd.read_csv(r'./data/vreme_flakken.csv', delimiter=';')"
   ]
  },
  {
   "cell_type": "code",
   "execution_count": 208,
   "metadata": {},
   "outputs": [],
   "source": [
    "vreme[\"date\"]= pd.to_datetime(vreme[\"date\"])"
   ]
  },
  {
   "cell_type": "code",
   "execution_count": 209,
   "metadata": {},
   "outputs": [
    {
     "data": {
      "text/html": [
       "<div>\n",
       "<style scoped>\n",
       "    .dataframe tbody tr th:only-of-type {\n",
       "        vertical-align: middle;\n",
       "    }\n",
       "\n",
       "    .dataframe tbody tr th {\n",
       "        vertical-align: top;\n",
       "    }\n",
       "\n",
       "    .dataframe thead th {\n",
       "        text-align: right;\n",
       "    }\n",
       "</style>\n",
       "<table border=\"1\" class=\"dataframe\">\n",
       "  <thead>\n",
       "    <tr style=\"text-align: right;\">\n",
       "      <th></th>\n",
       "      <th>date</th>\n",
       "      <th>T</th>\n",
       "      <th>Po</th>\n",
       "      <th>P</th>\n",
       "      <th>Pa</th>\n",
       "      <th>U</th>\n",
       "      <th>DD</th>\n",
       "      <th>Ff</th>\n",
       "      <th>ff10</th>\n",
       "      <th>ff3</th>\n",
       "      <th>...</th>\n",
       "      <th>Ch</th>\n",
       "      <th>VV</th>\n",
       "      <th>Td</th>\n",
       "      <th>RRR</th>\n",
       "      <th>tR</th>\n",
       "      <th>E</th>\n",
       "      <th>Tg</th>\n",
       "      <th>E'</th>\n",
       "      <th>sss</th>\n",
       "      <th>???</th>\n",
       "    </tr>\n",
       "  </thead>\n",
       "  <tbody>\n",
       "    <tr>\n",
       "      <th>0</th>\n",
       "      <td>2020-02-05 23:00:00</td>\n",
       "      <td>7.6</td>\n",
       "      <td>752.5</td>\n",
       "      <td>755.7</td>\n",
       "      <td>1.5</td>\n",
       "      <td>95.0</td>\n",
       "      <td>Wind blowing from the west-northwest</td>\n",
       "      <td>3</td>\n",
       "      <td>NaN</td>\n",
       "      <td>NaN</td>\n",
       "      <td>...</td>\n",
       "      <td>NaN</td>\n",
       "      <td>20.0</td>\n",
       "      <td>6.9</td>\n",
       "      <td>NaN</td>\n",
       "      <td>NaN</td>\n",
       "      <td>NaN</td>\n",
       "      <td>NaN</td>\n",
       "      <td>NaN</td>\n",
       "      <td>NaN</td>\n",
       "      <td>NaN</td>\n",
       "    </tr>\n",
       "    <tr>\n",
       "      <th>1</th>\n",
       "      <td>2020-02-05 22:00:00</td>\n",
       "      <td>8.3</td>\n",
       "      <td>752.0</td>\n",
       "      <td>755.1</td>\n",
       "      <td>1.4</td>\n",
       "      <td>92.0</td>\n",
       "      <td>Wind blowing from the west-northwest</td>\n",
       "      <td>4</td>\n",
       "      <td>NaN</td>\n",
       "      <td>NaN</td>\n",
       "      <td>...</td>\n",
       "      <td>NaN</td>\n",
       "      <td>45.0</td>\n",
       "      <td>7.0</td>\n",
       "      <td>NaN</td>\n",
       "      <td>NaN</td>\n",
       "      <td>NaN</td>\n",
       "      <td>NaN</td>\n",
       "      <td>NaN</td>\n",
       "      <td>NaN</td>\n",
       "      <td>NaN</td>\n",
       "    </tr>\n",
       "    <tr>\n",
       "      <th>2</th>\n",
       "      <td>2020-02-05 21:00:00</td>\n",
       "      <td>7.8</td>\n",
       "      <td>751.6</td>\n",
       "      <td>754.7</td>\n",
       "      <td>1.5</td>\n",
       "      <td>91.0</td>\n",
       "      <td>Wind blowing from the west</td>\n",
       "      <td>2</td>\n",
       "      <td>NaN</td>\n",
       "      <td>NaN</td>\n",
       "      <td>...</td>\n",
       "      <td>NaN</td>\n",
       "      <td>35.0</td>\n",
       "      <td>6.4</td>\n",
       "      <td>NaN</td>\n",
       "      <td>NaN</td>\n",
       "      <td>NaN</td>\n",
       "      <td>NaN</td>\n",
       "      <td>NaN</td>\n",
       "      <td>NaN</td>\n",
       "      <td>NaN</td>\n",
       "    </tr>\n",
       "    <tr>\n",
       "      <th>3</th>\n",
       "      <td>2020-02-05 20:00:00</td>\n",
       "      <td>8.6</td>\n",
       "      <td>751.0</td>\n",
       "      <td>754.0</td>\n",
       "      <td>1.4</td>\n",
       "      <td>86.0</td>\n",
       "      <td>Wind blowing from the west</td>\n",
       "      <td>2</td>\n",
       "      <td>NaN</td>\n",
       "      <td>NaN</td>\n",
       "      <td>...</td>\n",
       "      <td>NaN</td>\n",
       "      <td>50.0</td>\n",
       "      <td>6.4</td>\n",
       "      <td>0.4</td>\n",
       "      <td>12.0</td>\n",
       "      <td>NaN</td>\n",
       "      <td>NaN</td>\n",
       "      <td>NaN</td>\n",
       "      <td>NaN</td>\n",
       "      <td>NaN</td>\n",
       "    </tr>\n",
       "    <tr>\n",
       "      <th>4</th>\n",
       "      <td>2020-02-05 19:00:00</td>\n",
       "      <td>10.7</td>\n",
       "      <td>750.6</td>\n",
       "      <td>753.7</td>\n",
       "      <td>1.2</td>\n",
       "      <td>71.0</td>\n",
       "      <td>Wind blowing from the west-northwest</td>\n",
       "      <td>4</td>\n",
       "      <td>NaN</td>\n",
       "      <td>NaN</td>\n",
       "      <td>...</td>\n",
       "      <td>NaN</td>\n",
       "      <td>50.0</td>\n",
       "      <td>5.5</td>\n",
       "      <td>NaN</td>\n",
       "      <td>NaN</td>\n",
       "      <td>NaN</td>\n",
       "      <td>NaN</td>\n",
       "      <td>NaN</td>\n",
       "      <td>NaN</td>\n",
       "      <td>NaN</td>\n",
       "    </tr>\n",
       "  </tbody>\n",
       "</table>\n",
       "<p>5 rows × 30 columns</p>\n",
       "</div>"
      ],
      "text/plain": [
       "                 date     T     Po      P   Pa     U  \\\n",
       "0 2020-02-05 23:00:00   7.6  752.5  755.7  1.5  95.0   \n",
       "1 2020-02-05 22:00:00   8.3  752.0  755.1  1.4  92.0   \n",
       "2 2020-02-05 21:00:00   7.8  751.6  754.7  1.5  91.0   \n",
       "3 2020-02-05 20:00:00   8.6  751.0  754.0  1.4  86.0   \n",
       "4 2020-02-05 19:00:00  10.7  750.6  753.7  1.2  71.0   \n",
       "\n",
       "                                     DD  Ff  ff10  ff3  ...  Ch    VV   Td  \\\n",
       "0  Wind blowing from the west-northwest   3   NaN  NaN  ... NaN  20.0  6.9   \n",
       "1  Wind blowing from the west-northwest   4   NaN  NaN  ... NaN  45.0  7.0   \n",
       "2            Wind blowing from the west   2   NaN  NaN  ... NaN  35.0  6.4   \n",
       "3            Wind blowing from the west   2   NaN  NaN  ... NaN  50.0  6.4   \n",
       "4  Wind blowing from the west-northwest   4   NaN  NaN  ... NaN  50.0  5.5   \n",
       "\n",
       "   RRR    tR   E  Tg  E' sss  ???  \n",
       "0  NaN   NaN NaN NaN NaN NaN  NaN  \n",
       "1  NaN   NaN NaN NaN NaN NaN  NaN  \n",
       "2  NaN   NaN NaN NaN NaN NaN  NaN  \n",
       "3  0.4  12.0 NaN NaN NaN NaN  NaN  \n",
       "4  NaN   NaN NaN NaN NaN NaN  NaN  \n",
       "\n",
       "[5 rows x 30 columns]"
      ]
     },
     "execution_count": 209,
     "metadata": {},
     "output_type": "execute_result"
    }
   ],
   "source": [
    "vreme.head()"
   ]
  },
  {
   "cell_type": "code",
   "execution_count": 210,
   "metadata": {},
   "outputs": [
    {
     "data": {
      "image/png": "[encoded data removed]",
      "text/plain": [
       "<Figure size 640x480 with 1 Axes>"
      ]
     },
     "metadata": {},
     "output_type": "display_data"
    }
   ],
   "source": [
    "plt.plot(vreme['date'], vreme['T'], label ='Temperature [C]')\n",
    "plt.plot(vreme['date'], vreme['Po'], label ='Tlak [mm Hg]')\n",
    "plt.plot(vreme['date'], vreme['U'], label ='Relativna vlažnost [%]')\n",
    "\n",
    "plt.xlabel(\"Datum\")\n",
    "plt.ylabel(\"Y-axis data\")\n",
    "plt.legend()\n",
    "plt.title('Dodatne spremenljivke')\n",
    "plt.show()"
   ]
  },
  {
   "cell_type": "code",
   "execution_count": 211,
   "metadata": {},
   "outputs": [],
   "source": [
    "vreme = vreme.replace(\"Trace of precipitation\", 0)\n",
    "vreme = vreme.replace(\"No precipitation\", 0)\n",
    "vreme['RRR']= vreme['RRR'].fillna(0)\n",
    "vreme['sss']= vreme['sss'].fillna(0)\n",
    "vreme['???']= vreme['???'].fillna(0)"
   ]
  },
  {
   "cell_type": "code",
   "execution_count": 212,
   "metadata": {},
   "outputs": [
    {
     "name": "stderr",
     "output_type": "stream",
     "text": [
      "No artists with labels found to put in legend.  Note that artists whose label start with an underscore are ignored when legend() is called with no argument.\n"
     ]
    },
    {
     "data": {
      "image/png": "[encoded data removed]",
      "text/plain": [
       "<Figure size 640x480 with 1 Axes>"
      ]
     },
     "metadata": {},
     "output_type": "display_data"
    }
   ],
   "source": [
    "plt.plot(vreme['date'], vreme['???'], '*')\n",
    "plt.plot(vreme['date'], vreme['RRR'], '-')\n",
    "\n",
    "plt.xlabel(\"Datum\")\n",
    "plt.ylabel(\"mm [dez], cm [sneg]\")\n",
    "plt.legend()\n",
    "plt.title('Količina dežja')\n",
    "plt.show()"
   ]
  },
  {
   "attachments": {},
   "cell_type": "markdown",
   "metadata": {},
   "source": [
    "### Shranimo podatke"
   ]
  },
  {
   "cell_type": "code",
   "execution_count": 213,
   "metadata": {},
   "outputs": [],
   "source": [
    "panj.to_csv(os.path.join('data_cleaned','panj.csv'))\n",
    "\n",
    "panj2.to_csv(os.path.join('data_cleaned','panj2.csv'))\n",
    "\n",
    "vreme.to_csv(os.path.join('data_cleaned','vreme.csv'))"
   ]
  },
  {
   "attachments": {},
   "cell_type": "markdown",
   "metadata": {},
   "source": [
    "# TEST"
   ]
  },
  {
   "cell_type": "code",
   "execution_count": 214,
   "metadata": {},
   "outputs": [],
   "source": [
    "from sklearn.neighbors import LocalOutlierFactor\n",
    "from sklearn.ensemble import IsolationForest\n",
    "from sklearn.svm import OneClassSVM\n",
    "\n",
    "def replace_outliers_oneclass_svm(df, column_name, window_size=1, contamination=0.1):\n",
    "    # Copy the DataFrame to avoid modifying the original data\n",
    "    cleaned_df = df.copy()\n",
    "\n",
    "    # Fit the One-Class SVM model\n",
    "    clf = OneClassSVM(nu=contamination)\n",
    "    clf.fit(cleaned_df[[column_name]])\n",
    "    outliers = clf.predict(cleaned_df[[column_name]])\n",
    "\n",
    "    # Replace the outliers with the average of closest values\n",
    "    for i, val in enumerate(cleaned_df[column_name]):\n",
    "        if outliers[i] == -1:\n",
    "            start_index = max(i - window_size, 0)\n",
    "            end_index = min(i + window_size + 1, len(cleaned_df))\n",
    "            neighbors = cleaned_df.iloc[start_index:end_index][column_name]\n",
    "            avg = neighbors.sum() / len(neighbors)\n",
    "            cleaned_df.at[i, column_name] = avg\n",
    "\n",
    "    return cleaned_df"
   ]
  },
  {
   "cell_type": "code",
   "execution_count": 215,
   "metadata": {},
   "outputs": [],
   "source": [
    "cleaned_df = replace_outliers_oneclass_svm(panj, 'resVal', window_size=4, contamination=0.4)"
   ]
  },
  {
   "cell_type": "code",
   "execution_count": 216,
   "metadata": {},
   "outputs": [
    {
     "data": {
      "text/plain": [
       "[<matplotlib.lines.Line2D at 0x1f500ad9a90>]"
      ]
     },
     "execution_count": 216,
     "metadata": {},
     "output_type": "execute_result"
    },
    {
     "data": {
      "image/png": "[encoded data removed]",
      "text/plain": [
       "<Figure size 640x480 with 1 Axes>"
      ]
     },
     "metadata": {},
     "output_type": "display_data"
    }
   ],
   "source": [
    "plt.plot(cleaned_df['date'], cleaned_df['resVal'], '*')"
   ]
  }
 ],
 "metadata": {
  "kernelspec": {
   "display_name": "Python 3",
   "language": "python",
   "name": "python3"
  },
  "language_info": {
   "codemirror_mode": {
    "name": "ipython",
    "version": 3
   },
   "file_extension": ".py",
   "mimetype": "text/x-python",
   "name": "python",
   "nbconvert_exporter": "python",
   "pygments_lexer": "ipython3",
   "version": "3.11.2"
  },
  "orig_nbformat": 4
 },
 "nbformat": 4,
 "nbformat_minor": 2
}
