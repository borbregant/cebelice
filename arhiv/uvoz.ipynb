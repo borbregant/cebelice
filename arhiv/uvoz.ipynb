{
 "cells": [
  {
   "attachments": {},
   "cell_type": "markdown",
   "metadata": {},
   "source": [
    "# Uvoz tabel"
   ]
  },
  {
   "cell_type": "code",
   "execution_count": 188,
   "metadata": {},
   "outputs": [],
   "source": [
    "import numpy as np\n",
    "import pandas as pd\n",
    "import glob\n",
    "import matplotlib.pyplot as plt\n",
    "import requests"
   ]
  },
  {
   "attachments": {},
   "cell_type": "markdown",
   "metadata": {},
   "source": [
    "## Uvoz tehtnice"
   ]
  },
  {
   "cell_type": "code",
   "execution_count": 189,
   "metadata": {},
   "outputs": [],
   "source": [
    "# getting csv files from the folder MyProject\n",
    "path = \"./data/\"\n",
    "\n",
    "# Get CSV files list from a folder\n",
    "csv_files = glob.glob(path + \"/*.csv\")\n",
    "\n",
    "# Read each CSV file into DataFrame\n",
    "# This creates a list of dataframes\n",
    "df_list = (pd.read_csv(file, header=None) for file in csv_files)\n",
    "\n",
    "# Concatenate all DataFrames\n",
    "panji_vsi   = pd.concat(df_list, ignore_index=True)\n",
    "\n",
    "panj_en_dan = pd.read_csv(r'./data/Hive_1.csv', header=None)\n",
    "panj_en_dan.columns =['meritev', 'teza']"
   ]
  },
  {
   "cell_type": "code",
   "execution_count": 190,
   "metadata": {},
   "outputs": [
    {
     "data": {
      "image/png": "[encoded data removed]",
      "text/plain": [
       "<Figure size 640x480 with 1 Axes>"
      ]
     },
     "metadata": {},
     "output_type": "display_data"
    }
   ],
   "source": [
    "panj_en_dan.plot(kind = 'scatter', x = \"meritev\", y = \"teza\")\n",
    "\n",
    "plt.show()"
   ]
  },
  {
   "attachments": {},
   "cell_type": "markdown",
   "metadata": {},
   "source": [
    "## Uvoz vremena"
   ]
  },
  {
   "attachments": {},
   "cell_type": "markdown",
   "metadata": {},
   "source": [
    "#### En dan (direktno parsanje s spleta)"
   ]
  },
  {
   "cell_type": "code",
   "execution_count": 191,
   "metadata": {},
   "outputs": [
    {
     "data": {
      "text/html": [
       "<div>\n",
       "<style scoped>\n",
       "    .dataframe tbody tr th:only-of-type {\n",
       "        vertical-align: middle;\n",
       "    }\n",
       "\n",
       "    .dataframe tbody tr th {\n",
       "        vertical-align: top;\n",
       "    }\n",
       "\n",
       "    .dataframe thead th {\n",
       "        text-align: right;\n",
       "    }\n",
       "</style>\n",
       "<table border=\"1\" class=\"dataframe\">\n",
       "  <thead>\n",
       "    <tr style=\"text-align: right;\">\n",
       "      <th></th>\n",
       "      <th>0</th>\n",
       "      <th>1</th>\n",
       "      <th>2</th>\n",
       "      <th>3</th>\n",
       "      <th>4</th>\n",
       "      <th>5</th>\n",
       "      <th>6</th>\n",
       "      <th>7</th>\n",
       "      <th>8</th>\n",
       "      <th>9</th>\n",
       "      <th>10</th>\n",
       "      <th>11</th>\n",
       "      <th>12</th>\n",
       "      <th>13</th>\n",
       "      <th>14</th>\n",
       "      <th>15</th>\n",
       "      <th>16</th>\n",
       "    </tr>\n",
       "  </thead>\n",
       "  <tbody>\n",
       "    <tr>\n",
       "      <th>0</th>\n",
       "      <td>kraj 1</td>\n",
       "      <td>št.</td>\n",
       "      <td>kraj</td>\n",
       "      <td>temp. zraka [°C]</td>\n",
       "      <td>vlaga [%]</td>\n",
       "      <td>smer vetra [°]</td>\n",
       "      <td>hitrost vetra [Km/h]</td>\n",
       "      <td>sunki vetra [Km/h]</td>\n",
       "      <td>tlak [hPa]</td>\n",
       "      <td>padavine [mm]</td>\n",
       "      <td>sonce [W/m2]</td>\n",
       "      <td>temp. tal 5cm [°C]</td>\n",
       "      <td>temp. tal 10cm [°C]</td>\n",
       "      <td>temp. tal 20cm [°C]</td>\n",
       "      <td>temp. tal 30cm [°C]</td>\n",
       "      <td>temp. tal 50cm [°C]</td>\n",
       "      <td>kraj 2</td>\n",
       "    </tr>\n",
       "    <tr>\n",
       "      <th>1</th>\n",
       "      <td>&gt;</td>\n",
       "      <td>1</td>\n",
       "      <td>Babno Polje</td>\n",
       "      <td>23.7</td>\n",
       "      <td>43</td>\n",
       "      <td>-</td>\n",
       "      <td>-</td>\n",
       "      <td>-</td>\n",
       "      <td>-</td>\n",
       "      <td>0.0</td>\n",
       "      <td>-</td>\n",
       "      <td>-</td>\n",
       "      <td>-</td>\n",
       "      <td>-</td>\n",
       "      <td>-</td>\n",
       "      <td>-</td>\n",
       "      <td>&lt;</td>\n",
       "    </tr>\n",
       "    <tr>\n",
       "      <th>2</th>\n",
       "      <td>&gt;</td>\n",
       "      <td>2</td>\n",
       "      <td>Bilje Nova Gorica</td>\n",
       "      <td>28.0</td>\n",
       "      <td>39</td>\n",
       "      <td>226</td>\n",
       "      <td>12</td>\n",
       "      <td>26</td>\n",
       "      <td>1012</td>\n",
       "      <td>0.0</td>\n",
       "      <td>759</td>\n",
       "      <td>34.5</td>\n",
       "      <td>31.4</td>\n",
       "      <td>28.3</td>\n",
       "      <td>26.4</td>\n",
       "      <td>25.4</td>\n",
       "      <td>&lt;</td>\n",
       "    </tr>\n",
       "    <tr>\n",
       "      <th>3</th>\n",
       "      <td>&gt;</td>\n",
       "      <td>3</td>\n",
       "      <td>Blegoš</td>\n",
       "      <td>18.2</td>\n",
       "      <td>63</td>\n",
       "      <td>-</td>\n",
       "      <td>-</td>\n",
       "      <td>-</td>\n",
       "      <td>-</td>\n",
       "      <td>0.0</td>\n",
       "      <td>-</td>\n",
       "      <td>-</td>\n",
       "      <td>-</td>\n",
       "      <td>-</td>\n",
       "      <td>-</td>\n",
       "      <td>-</td>\n",
       "      <td>&lt;</td>\n",
       "    </tr>\n",
       "    <tr>\n",
       "      <th>4</th>\n",
       "      <td>&gt;</td>\n",
       "      <td>4</td>\n",
       "      <td>Bohinjska Češnjica</td>\n",
       "      <td>26.2</td>\n",
       "      <td>43</td>\n",
       "      <td>-</td>\n",
       "      <td>-</td>\n",
       "      <td>-</td>\n",
       "      <td>-</td>\n",
       "      <td>0.0</td>\n",
       "      <td>-</td>\n",
       "      <td>-</td>\n",
       "      <td>-</td>\n",
       "      <td>-</td>\n",
       "      <td>-</td>\n",
       "      <td>-</td>\n",
       "      <td>&lt;</td>\n",
       "    </tr>\n",
       "  </tbody>\n",
       "</table>\n",
       "</div>"
      ],
      "text/plain": [
       "       0    1                   2                 3          4   \\\n",
       "0  kraj 1  št.                kraj  temp. zraka [°C]  vlaga [%]   \n",
       "1       >    1         Babno Polje              23.7         43   \n",
       "2       >    2   Bilje Nova Gorica              28.0         39   \n",
       "3       >    3              Blegoš              18.2         63   \n",
       "4       >    4  Bohinjska Češnjica              26.2         43   \n",
       "\n",
       "               5                     6                   7           8   \\\n",
       "0  smer vetra [°]  hitrost vetra [Km/h]  sunki vetra [Km/h]  tlak [hPa]   \n",
       "1               -                     -                   -           -   \n",
       "2             226                    12                  26        1012   \n",
       "3               -                     -                   -           -   \n",
       "4               -                     -                   -           -   \n",
       "\n",
       "              9             10                  11                   12  \\\n",
       "0  padavine [mm]  sonce [W/m2]  temp. tal 5cm [°C]  temp. tal 10cm [°C]   \n",
       "1            0.0             -                   -                    -   \n",
       "2            0.0           759                34.5                 31.4   \n",
       "3            0.0             -                   -                    -   \n",
       "4            0.0             -                   -                    -   \n",
       "\n",
       "                    13                   14                   15      16  \n",
       "0  temp. tal 20cm [°C]  temp. tal 30cm [°C]  temp. tal 50cm [°C]  kraj 2  \n",
       "1                    -                    -                    -       <  \n",
       "2                 28.3                 26.4                 25.4       <  \n",
       "3                    -                    -                    -       <  \n",
       "4                    -                    -                    -       <  "
      ]
     },
     "execution_count": 191,
     "metadata": {},
     "output_type": "execute_result"
    }
   ],
   "source": [
    "url = 'https://www.si-vreme.com/si/slovenija/vreme/avtomatske-postaje?xs=si-avt_vremenski_podatki&xt=2&ts=0&tl1=LJUBL-ANA_BEZIGRAD_&tl2=LJUBL-ANA_BRNIK_&gm=0&gh=3&go=1&gg=2&gv=9&gd=tml&gc=_vlaznost_smer-vetra_hitrost-v_sunki-v_tlak_padavine_sonce_tempTal005_tempTal010_tempTal020_tempTal030_tempTal050&gu=1&gp=4&fo=0#vsebina'\n",
    "html = requests.get(url).content\n",
    "df_list = pd.read_html(html)\n",
    "df = df_list[-1]\n",
    "df.head()"
   ]
  },
  {
   "attachments": {},
   "cell_type": "markdown",
   "metadata": {},
   "source": [
    "#### Dnevno"
   ]
  },
  {
   "attachments": {},
   "cell_type": "markdown",
   "metadata": {},
   "source": [
    "Zaenkrat alfa pristop s kopiranjem arso html-ja. V prihodnosti s *selenium* knjižnico"
   ]
  },
  {
   "cell_type": "code",
   "execution_count": 192,
   "metadata": {},
   "outputs": [],
   "source": [
    "vreme_dnevno = pd.read_csv(r'./data/vreme_teden.txt')"
   ]
  },
  {
   "cell_type": "code",
   "execution_count": 193,
   "metadata": {},
   "outputs": [
    {
     "data": {
      "text/html": [
       "<div>\n",
       "<style scoped>\n",
       "    .dataframe tbody tr th:only-of-type {\n",
       "        vertical-align: middle;\n",
       "    }\n",
       "\n",
       "    .dataframe tbody tr th {\n",
       "        vertical-align: top;\n",
       "    }\n",
       "\n",
       "    .dataframe thead th {\n",
       "        text-align: right;\n",
       "    }\n",
       "</style>\n",
       "<table border=\"1\" class=\"dataframe\">\n",
       "  <thead>\n",
       "    <tr style=\"text-align: right;\">\n",
       "      <th></th>\n",
       "      <th>dan</th>\n",
       "      <th>povp. dnevna T [°C]</th>\n",
       "      <th>količina padavin [mm]</th>\n",
       "      <th>višina snežne odeje [cm]</th>\n",
       "      <th>nevihta</th>\n",
       "      <th>toča</th>\n",
       "      <th>viharni veter</th>\n",
       "    </tr>\n",
       "  </thead>\n",
       "  <tbody>\n",
       "    <tr>\n",
       "      <th>0</th>\n",
       "      <td>2023-06-05</td>\n",
       "      <td>16.2</td>\n",
       "      <td>5.2</td>\n",
       "      <td>0</td>\n",
       "      <td>ne</td>\n",
       "      <td>ne</td>\n",
       "      <td>ne</td>\n",
       "    </tr>\n",
       "    <tr>\n",
       "      <th>1</th>\n",
       "      <td>2023-06-06</td>\n",
       "      <td>18.2</td>\n",
       "      <td>20.7</td>\n",
       "      <td>0</td>\n",
       "      <td>ne</td>\n",
       "      <td>ne</td>\n",
       "      <td>ne</td>\n",
       "    </tr>\n",
       "    <tr>\n",
       "      <th>2</th>\n",
       "      <td>2023-06-07</td>\n",
       "      <td>19.6</td>\n",
       "      <td>5.2</td>\n",
       "      <td>0</td>\n",
       "      <td>da</td>\n",
       "      <td>ne</td>\n",
       "      <td>ne</td>\n",
       "    </tr>\n",
       "    <tr>\n",
       "      <th>3</th>\n",
       "      <td>2023-06-08</td>\n",
       "      <td>17.3</td>\n",
       "      <td>0.0</td>\n",
       "      <td>0</td>\n",
       "      <td>da</td>\n",
       "      <td>da</td>\n",
       "      <td>ne</td>\n",
       "    </tr>\n",
       "    <tr>\n",
       "      <th>4</th>\n",
       "      <td>2023-06-09</td>\n",
       "      <td>20.2</td>\n",
       "      <td>15.7</td>\n",
       "      <td>0</td>\n",
       "      <td>da</td>\n",
       "      <td>ne</td>\n",
       "      <td>ne</td>\n",
       "    </tr>\n",
       "  </tbody>\n",
       "</table>\n",
       "</div>"
      ],
      "text/plain": [
       "          dan  povp. dnevna T [°C]  količina padavin [mm]  \\\n",
       "0  2023-06-05                 16.2                    5.2   \n",
       "1  2023-06-06                 18.2                   20.7   \n",
       "2  2023-06-07                 19.6                    5.2   \n",
       "3  2023-06-08                 17.3                    0.0   \n",
       "4  2023-06-09                 20.2                   15.7   \n",
       "\n",
       "   višina snežne odeje [cm] nevihta toča viharni veter  \n",
       "0                         0      ne   ne            ne  \n",
       "1                         0      ne   ne            ne  \n",
       "2                         0      da   ne            ne  \n",
       "3                         0      da   da            ne  \n",
       "4                         0      da   ne            ne  "
      ]
     },
     "execution_count": 193,
     "metadata": {},
     "output_type": "execute_result"
    }
   ],
   "source": [
    "vreme_dnevno.head()"
   ]
  },
  {
   "attachments": {},
   "cell_type": "markdown",
   "metadata": {},
   "source": [
    "## Združevanje"
   ]
  },
  {
   "attachments": {},
   "cell_type": "markdown",
   "metadata": {},
   "source": [
    "## Odstranjevanje čudnih vrednosti (koda še ni testirana)"
   ]
  },
  {
   "attachments": {},
   "cell_type": "markdown",
   "metadata": {},
   "source": [
    "### Globalno (ogromni oulierji, ki niso vezani nujno na potek npr. mačka skoči na panj, čebelar odmakne panj, ...)"
   ]
  },
  {
   "cell_type": "code",
   "execution_count": 194,
   "metadata": {},
   "outputs": [],
   "source": [
    "def replace_outliers_with_average_global(df, column_name, threshold=3):\n",
    "    # Copy the DataFrame to avoid modifying the original data\n",
    "    cleaned_df = df.copy()\n",
    "    \n",
    "    # Calculate the mean and standard deviation of the column\n",
    "    mean = cleaned_df[column_name].mean()\n",
    "    std = cleaned_df[column_name].std()\n",
    "    \n",
    "    # Calculate the Z-scores for each data point\n",
    "    z_scores = np.abs((cleaned_df[column_name] - mean) / std)\n",
    "    \n",
    "    # Identify the outliers based on the threshold\n",
    "    outliers = z_scores > threshold\n",
    "    \n",
    "    # Replace the outliers with the average of the previous and next value\n",
    "    previous_values = cleaned_df[column_name].shift(1)\n",
    "    next_values = cleaned_df[column_name].shift(-1)\n",
    "    cleaned_df.loc[outliers, column_name] = (previous_values[outliers] + next_values[outliers]) / 2\n",
    "    \n",
    "    return cleaned_df"
   ]
  },
  {
   "cell_type": "code",
   "execution_count": 195,
   "metadata": {},
   "outputs": [],
   "source": [
    "panj_en_dan = replace_outliers_with_average_global(panj_en_dan, \"teza\", threshold=1)"
   ]
  },
  {
   "attachments": {},
   "cell_type": "markdown",
   "metadata": {},
   "source": [
    "### Lokalno (male spremembe vrednosti (ki so lahko npr. še vedno blizu meritev, a ne sovpadajo z regresijo) npr. napaka tehtnice ipd.)"
   ]
  },
  {
   "cell_type": "code",
   "execution_count": 196,
   "metadata": {},
   "outputs": [],
   "source": [
    "def replace_outliers_lof(df, column_name, window_size=1, contamination=0.1):\n",
    "    # Copy the DataFrame to avoid modifying the original data\n",
    "    cleaned_df = df.copy()\n",
    "    \n",
    "    # Fit the Local Outlier Factor model\n",
    "    lof = LocalOutlierFactor(contamination=contamination)\n",
    "    outliers = lof.fit_predict(cleaned_df[[column_name]])\n",
    "    \n",
    "    # Replace the outliers with the average of previous and next values\n",
    "    for i, val in enumerate(cleaned_df[column_name]):\n",
    "        if outliers[i] == -1:\n",
    "            start_index = max(i - window_size, 0)\n",
    "            end_index = min(i + window_size + 1, len(cleaned_df))\n",
    "            avg = cleaned_df.iloc[start_index:end_index][column_name].mean()\n",
    "            cleaned_df.at[i, column_name] = avg\n",
    "    \n",
    "    return cleaned_df"
   ]
  },
  {
   "cell_type": "code",
   "execution_count": 197,
   "metadata": {},
   "outputs": [],
   "source": [
    "panj_en_dan = replace_outliers_lof(panj_en_dan, 'teza', window_size=1, contamination=0.5)"
   ]
  },
  {
   "cell_type": "code",
   "execution_count": 198,
   "metadata": {},
   "outputs": [
    {
     "data": {
      "image/png": "[encoded data removed]",
      "text/plain": [
       "<Figure size 640x480 with 1 Axes>"
      ]
     },
     "metadata": {},
     "output_type": "display_data"
    }
   ],
   "source": [
    "panj_en_dan.plot(kind = 'scatter', x = \"meritev\", y = \"teza\")\n",
    "\n",
    "plt.show()"
   ]
  }
 ],
 "metadata": {
  "kernelspec": {
   "display_name": "Python 3",
   "language": "python",
   "name": "python3"
  },
  "language_info": {
   "codemirror_mode": {
    "name": "ipython",
    "version": 3
   },
   "file_extension": ".py",
   "mimetype": "text/x-python",
   "name": "python",
   "nbconvert_exporter": "python",
   "pygments_lexer": "ipython3",
   "version": "3.11.2"
  },
  "orig_nbformat": 4
 },
 "nbformat": 4,
 "nbformat_minor": 2
}
