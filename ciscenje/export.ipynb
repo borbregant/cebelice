{
 "cells": [
  {
   "cell_type": "code",
   "execution_count": 93,
   "metadata": {},
   "outputs": [],
   "source": [
    "import numpy as np\n",
    "import pandas as pd\n",
    "import glob\n",
    "import matplotlib.pyplot as plt\n",
    "import requests\n",
    "from datetime import datetime\n",
    "import seaborn as sns\n",
    "import os.path"
   ]
  },
  {
   "cell_type": "code",
   "execution_count": 94,
   "metadata": {},
   "outputs": [],
   "source": [
    "panj = pd.read_pickle(\"./panj_outlier.pkl\")  \n",
    "dnevnik = pd.read_pickle('./dnevnik_cleaned.pkl')\n",
    "vreme = pd.read_pickle('./vreme_cleaned.pkl')"
   ]
  },
  {
   "cell_type": "code",
   "execution_count": 95,
   "metadata": {},
   "outputs": [
    {
     "data": {
      "text/html": [
       "<div>\n",
       "<style scoped>\n",
       "    .dataframe tbody tr th:only-of-type {\n",
       "        vertical-align: middle;\n",
       "    }\n",
       "\n",
       "    .dataframe tbody tr th {\n",
       "        vertical-align: top;\n",
       "    }\n",
       "\n",
       "    .dataframe thead th {\n",
       "        text-align: right;\n",
       "    }\n",
       "</style>\n",
       "<table border=\"1\" class=\"dataframe\">\n",
       "  <thead>\n",
       "    <tr style=\"text-align: right;\">\n",
       "      <th></th>\n",
       "      <th>resId</th>\n",
       "      <th>siteNo</th>\n",
       "      <th>hiveNo</th>\n",
       "      <th>frameNo</th>\n",
       "      <th>hour</th>\n",
       "      <th>paramText</th>\n",
       "      <th>anMethText</th>\n",
       "      <th>resVal</th>\n",
       "      <th>resUnit</th>\n",
       "      <th>resUnit_desc</th>\n",
       "      <th>resValUncert</th>\n",
       "      <th>resValUncertSD</th>\n",
       "      <th>resQualValue</th>\n",
       "      <th>date</th>\n",
       "      <th>year</th>\n",
       "      <th>month</th>\n",
       "    </tr>\n",
       "  </thead>\n",
       "  <tbody>\n",
       "    <tr>\n",
       "      <th>162858</th>\n",
       "      <td>CW207781</td>\n",
       "      <td>3</td>\n",
       "      <td>1</td>\n",
       "      <td>NaN</td>\n",
       "      <td>0</td>\n",
       "      <td>Colony weight</td>\n",
       "      <td>Automatic recording</td>\n",
       "      <td>24.6</td>\n",
       "      <td>G167A</td>\n",
       "      <td>Kilogram</td>\n",
       "      <td>NaN</td>\n",
       "      <td>NaN</td>\n",
       "      <td>NaN</td>\n",
       "      <td>2019-06-01 00:00:00</td>\n",
       "      <td>2019</td>\n",
       "      <td>6</td>\n",
       "    </tr>\n",
       "    <tr>\n",
       "      <th>162857</th>\n",
       "      <td>CW207782</td>\n",
       "      <td>3</td>\n",
       "      <td>1</td>\n",
       "      <td>NaN</td>\n",
       "      <td>1</td>\n",
       "      <td>Colony weight</td>\n",
       "      <td>Automatic recording</td>\n",
       "      <td>24.6</td>\n",
       "      <td>G167A</td>\n",
       "      <td>Kilogram</td>\n",
       "      <td>NaN</td>\n",
       "      <td>NaN</td>\n",
       "      <td>NaN</td>\n",
       "      <td>2019-06-01 01:00:00</td>\n",
       "      <td>2019</td>\n",
       "      <td>6</td>\n",
       "    </tr>\n",
       "    <tr>\n",
       "      <th>162855</th>\n",
       "      <td>CW207783</td>\n",
       "      <td>3</td>\n",
       "      <td>1</td>\n",
       "      <td>NaN</td>\n",
       "      <td>2</td>\n",
       "      <td>Colony weight</td>\n",
       "      <td>Automatic recording</td>\n",
       "      <td>24.5</td>\n",
       "      <td>G167A</td>\n",
       "      <td>Kilogram</td>\n",
       "      <td>NaN</td>\n",
       "      <td>NaN</td>\n",
       "      <td>NaN</td>\n",
       "      <td>2019-06-01 02:00:00</td>\n",
       "      <td>2019</td>\n",
       "      <td>6</td>\n",
       "    </tr>\n",
       "    <tr>\n",
       "      <th>162854</th>\n",
       "      <td>CW207784</td>\n",
       "      <td>3</td>\n",
       "      <td>1</td>\n",
       "      <td>NaN</td>\n",
       "      <td>3</td>\n",
       "      <td>Colony weight</td>\n",
       "      <td>Automatic recording</td>\n",
       "      <td>24.5</td>\n",
       "      <td>G167A</td>\n",
       "      <td>Kilogram</td>\n",
       "      <td>NaN</td>\n",
       "      <td>NaN</td>\n",
       "      <td>NaN</td>\n",
       "      <td>2019-06-01 03:00:00</td>\n",
       "      <td>2019</td>\n",
       "      <td>6</td>\n",
       "    </tr>\n",
       "    <tr>\n",
       "      <th>162853</th>\n",
       "      <td>CW207785</td>\n",
       "      <td>3</td>\n",
       "      <td>1</td>\n",
       "      <td>NaN</td>\n",
       "      <td>4</td>\n",
       "      <td>Colony weight</td>\n",
       "      <td>Automatic recording</td>\n",
       "      <td>24.5</td>\n",
       "      <td>G167A</td>\n",
       "      <td>Kilogram</td>\n",
       "      <td>NaN</td>\n",
       "      <td>NaN</td>\n",
       "      <td>NaN</td>\n",
       "      <td>2019-06-01 04:00:00</td>\n",
       "      <td>2019</td>\n",
       "      <td>6</td>\n",
       "    </tr>\n",
       "  </tbody>\n",
       "</table>\n",
       "</div>"
      ],
      "text/plain": [
       "           resId  siteNo  hiveNo frameNo  hour      paramText  \\\n",
       "162858  CW207781       3       1     NaN     0  Colony weight   \n",
       "162857  CW207782       3       1     NaN     1  Colony weight   \n",
       "162855  CW207783       3       1     NaN     2  Colony weight   \n",
       "162854  CW207784       3       1     NaN     3  Colony weight   \n",
       "162853  CW207785       3       1     NaN     4  Colony weight   \n",
       "\n",
       "                 anMethText  resVal resUnit resUnit_desc  resValUncert  \\\n",
       "162858  Automatic recording    24.6   G167A     Kilogram           NaN   \n",
       "162857  Automatic recording    24.6   G167A     Kilogram           NaN   \n",
       "162855  Automatic recording    24.5   G167A     Kilogram           NaN   \n",
       "162854  Automatic recording    24.5   G167A     Kilogram           NaN   \n",
       "162853  Automatic recording    24.5   G167A     Kilogram           NaN   \n",
       "\n",
       "        resValUncertSD  resQualValue                date  year  month  \n",
       "162858             NaN           NaN 2019-06-01 00:00:00  2019      6  \n",
       "162857             NaN           NaN 2019-06-01 01:00:00  2019      6  \n",
       "162855             NaN           NaN 2019-06-01 02:00:00  2019      6  \n",
       "162854             NaN           NaN 2019-06-01 03:00:00  2019      6  \n",
       "162853             NaN           NaN 2019-06-01 04:00:00  2019      6  "
      ]
     },
     "execution_count": 95,
     "metadata": {},
     "output_type": "execute_result"
    }
   ],
   "source": [
    "panj.head()"
   ]
  },
  {
   "cell_type": "code",
   "execution_count": 96,
   "metadata": {},
   "outputs": [
    {
     "name": "stdout",
     "output_type": "stream",
     "text": [
      "               resVal\n",
      "date                 \n",
      "2019-06-01  24.491304\n",
      "2019-06-02  24.443478\n",
      "2019-06-03  24.760870\n",
      "2019-06-04  24.600000\n",
      "2019-06-05  24.634783\n",
      "2019-06-06  24.843478\n",
      "2019-06-07  24.808696\n",
      "2019-06-08  24.704348\n",
      "2019-06-09  24.347826\n",
      "2019-06-10  24.152174\n",
      "2019-06-11  23.965217\n",
      "2019-06-12  23.969565\n",
      "2019-06-13  23.619048\n",
      "2019-06-14  23.604762\n",
      "2019-06-15  23.600000\n",
      "2019-06-16  23.230435\n",
      "2019-06-17  23.133333\n",
      "2019-06-18  23.247826\n",
      "2019-06-19  23.468182\n",
      "2019-06-20  23.565217\n",
      "2019-06-21  23.356522\n",
      "2019-06-22  23.169565\n",
      "2019-06-23  23.056522\n",
      "2019-06-24  22.943478\n",
      "2019-06-25  22.944444\n",
      "2019-06-26        NaN\n",
      "2019-06-27        NaN\n",
      "2019-06-28  23.333333\n",
      "2019-06-29  23.630435\n",
      "2019-06-30  24.300000\n"
     ]
    },
    {
     "name": "stderr",
     "output_type": "stream",
     "text": [
      "C:\\Users\\borbr\\AppData\\Local\\Temp\\ipykernel_9080\\1769213885.py:2: FutureWarning: The default value of numeric_only in DataFrameGroupBy.mean is deprecated. In a future version, numeric_only will default to False. Either specify numeric_only or select only columns which should be valid for the function.\n",
      "  panj = panj.groupby(by=pd.Grouper(freq='D', key='date')).mean()\n"
     ]
    }
   ],
   "source": [
    "panj['date'] = pd.to_datetime(panj['date'])\n",
    "panj = panj.groupby(by=pd.Grouper(freq='D', key='date')).mean()\n",
    "panj.drop(columns=['siteNo', 'hiveNo', \"hour\", \"resValUncert\", \"year\", \"month\",\"resValUncertSD\", \"resQualValue\"], axis=1, inplace=True)\n",
    "print(panj)"
   ]
  },
  {
   "cell_type": "code",
   "execution_count": 97,
   "metadata": {},
   "outputs": [],
   "source": [
    "panj = panj.reset_index()\n",
    "panj.columns = [\"datum\", \"teza\"]"
   ]
  },
  {
   "cell_type": "code",
   "execution_count": 98,
   "metadata": {},
   "outputs": [
    {
     "data": {
      "text/html": [
       "<div>\n",
       "<style scoped>\n",
       "    .dataframe tbody tr th:only-of-type {\n",
       "        vertical-align: middle;\n",
       "    }\n",
       "\n",
       "    .dataframe tbody tr th {\n",
       "        vertical-align: top;\n",
       "    }\n",
       "\n",
       "    .dataframe thead th {\n",
       "        text-align: right;\n",
       "    }\n",
       "</style>\n",
       "<table border=\"1\" class=\"dataframe\">\n",
       "  <thead>\n",
       "    <tr style=\"text-align: right;\">\n",
       "      <th></th>\n",
       "      <th>datum</th>\n",
       "      <th>teza</th>\n",
       "    </tr>\n",
       "  </thead>\n",
       "  <tbody>\n",
       "    <tr>\n",
       "      <th>0</th>\n",
       "      <td>2019-06-01</td>\n",
       "      <td>24.491304</td>\n",
       "    </tr>\n",
       "    <tr>\n",
       "      <th>1</th>\n",
       "      <td>2019-06-02</td>\n",
       "      <td>24.443478</td>\n",
       "    </tr>\n",
       "    <tr>\n",
       "      <th>2</th>\n",
       "      <td>2019-06-03</td>\n",
       "      <td>24.760870</td>\n",
       "    </tr>\n",
       "    <tr>\n",
       "      <th>3</th>\n",
       "      <td>2019-06-04</td>\n",
       "      <td>24.600000</td>\n",
       "    </tr>\n",
       "    <tr>\n",
       "      <th>4</th>\n",
       "      <td>2019-06-05</td>\n",
       "      <td>24.634783</td>\n",
       "    </tr>\n",
       "  </tbody>\n",
       "</table>\n",
       "</div>"
      ],
      "text/plain": [
       "       datum       teza\n",
       "0 2019-06-01  24.491304\n",
       "1 2019-06-02  24.443478\n",
       "2 2019-06-03  24.760870\n",
       "3 2019-06-04  24.600000\n",
       "4 2019-06-05  24.634783"
      ]
     },
     "execution_count": 98,
     "metadata": {},
     "output_type": "execute_result"
    }
   ],
   "source": [
    "panj.head()"
   ]
  },
  {
   "cell_type": "code",
   "execution_count": 102,
   "metadata": {},
   "outputs": [
    {
     "data": {
      "image/png": "[encoded data removed]",
      "text/plain": [
       "<Figure size 640x480 with 1 Axes>"
      ]
     },
     "metadata": {},
     "output_type": "display_data"
    }
   ],
   "source": [
    "plt.plot(panj['datum'], panj['teza'], '*')\n",
    "plt.xticks(panj['datum'][::1],  rotation='vertical')\n",
    "plt.show()"
   ]
  }
 ],
 "metadata": {
  "kernelspec": {
   "display_name": "Python 3",
   "language": "python",
   "name": "python3"
  },
  "language_info": {
   "codemirror_mode": {
    "name": "ipython",
    "version": 3
   },
   "file_extension": ".py",
   "mimetype": "text/x-python",
   "name": "python",
   "nbconvert_exporter": "python",
   "pygments_lexer": "ipython3",
   "version": "3.11.4"
  },
  "orig_nbformat": 4
 },
 "nbformat": 4,
 "nbformat_minor": 2
}
