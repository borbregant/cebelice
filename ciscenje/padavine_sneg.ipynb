{
 "cells": [
  {
   "cell_type": "code",
   "execution_count": null,
   "metadata": {},
   "outputs": [],
   "source": [
    "#snezna_odeja(dataframe_dnevnika, vreme, povrsina_panja = ...):\n",
    "    #prilagodi tezo glede na kolicino snezne odeje"
   ]
  }
 ],
 "metadata": {
  "language_info": {
   "name": "python"
  },
  "orig_nbformat": 4
 },
 "nbformat": 4,
 "nbformat_minor": 2
}
