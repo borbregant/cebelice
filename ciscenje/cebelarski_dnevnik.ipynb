{
 "cells": [
  {
   "cell_type": "code",
   "execution_count": 12,
   "metadata": {},
   "outputs": [],
   "source": [
    "import numpy as np\n",
    "import pandas as pd\n",
    "import glob\n",
    "import matplotlib.pyplot as plt\n",
    "import requests\n",
    "from datetime import datetime\n",
    "import seaborn as sns\n",
    "import os.path\n",
    "from sklearn.neighbors import LocalOutlierFactor"
   ]
  },
  {
   "cell_type": "code",
   "execution_count": 13,
   "metadata": {},
   "outputs": [],
   "source": [
    "panj = pd.read_pickle(\"./panj_outlier.pkl\")  \n",
    "dnevnik = pd.read_pickle('./dnevnik_cleaned.pkl')\n",
    "vreme = pd.read_pickle('./vreme_cleaned.pkl')"
   ]
  },
  {
   "cell_type": "code",
   "execution_count": 14,
   "metadata": {},
   "outputs": [],
   "source": [
    "panj['year'] = panj['date'].dt.year\n",
    "panj['month'] = panj['date'].dt.month\n",
    "panj = panj.loc[panj['month'] == 6]\n",
    "panj = panj.loc[panj['year'] == 2019]\n",
    "\n",
    "dnevnik['year'] = dnevnik['date'].dt.year\n",
    "dnevnik['month'] = dnevnik['date'].dt.month\n",
    "dnevnik = dnevnik.loc[dnevnik['month'] == 6]\n",
    "dnevnik = dnevnik.loc[dnevnik['year'] == 2019]"
   ]
  },
  {
   "cell_type": "code",
   "execution_count": 21,
   "metadata": {},
   "outputs": [
    {
     "data": {
      "text/html": [
       "<div>\n",
       "<style scoped>\n",
       "    .dataframe tbody tr th:only-of-type {\n",
       "        vertical-align: middle;\n",
       "    }\n",
       "\n",
       "    .dataframe tbody tr th {\n",
       "        vertical-align: top;\n",
       "    }\n",
       "\n",
       "    .dataframe thead th {\n",
       "        text-align: right;\n",
       "    }\n",
       "</style>\n",
       "<table border=\"1\" class=\"dataframe\">\n",
       "  <thead>\n",
       "    <tr style=\"text-align: right;\">\n",
       "      <th></th>\n",
       "      <th>resId</th>\n",
       "      <th>siteNo</th>\n",
       "      <th>hiveNo</th>\n",
       "      <th>frameNo</th>\n",
       "      <th>hour</th>\n",
       "      <th>paramText</th>\n",
       "      <th>anMethText</th>\n",
       "      <th>resVal</th>\n",
       "      <th>resUnit</th>\n",
       "      <th>resUnit_desc</th>\n",
       "      <th>resValUncert</th>\n",
       "      <th>resValUncertSD</th>\n",
       "      <th>resQualValue</th>\n",
       "      <th>date</th>\n",
       "      <th>year</th>\n",
       "      <th>month</th>\n",
       "    </tr>\n",
       "  </thead>\n",
       "  <tbody>\n",
       "    <tr>\n",
       "      <th>161245</th>\n",
       "      <td>CW208467</td>\n",
       "      <td>3</td>\n",
       "      <td>1</td>\n",
       "      <td>NaN</td>\n",
       "      <td>23</td>\n",
       "      <td>Colony weight</td>\n",
       "      <td>Automatic recording</td>\n",
       "      <td>24.9</td>\n",
       "      <td>G167A</td>\n",
       "      <td>Kilogram</td>\n",
       "      <td>NaN</td>\n",
       "      <td>NaN</td>\n",
       "      <td>NaN</td>\n",
       "      <td>2019-06-30 23:00:00</td>\n",
       "      <td>2019</td>\n",
       "      <td>6</td>\n",
       "    </tr>\n",
       "    <tr>\n",
       "      <th>161246</th>\n",
       "      <td>CW208466</td>\n",
       "      <td>3</td>\n",
       "      <td>1</td>\n",
       "      <td>NaN</td>\n",
       "      <td>22</td>\n",
       "      <td>Colony weight</td>\n",
       "      <td>Automatic recording</td>\n",
       "      <td>24.9</td>\n",
       "      <td>G167A</td>\n",
       "      <td>Kilogram</td>\n",
       "      <td>NaN</td>\n",
       "      <td>NaN</td>\n",
       "      <td>NaN</td>\n",
       "      <td>2019-06-30 22:00:00</td>\n",
       "      <td>2019</td>\n",
       "      <td>6</td>\n",
       "    </tr>\n",
       "    <tr>\n",
       "      <th>161247</th>\n",
       "      <td>CW208465</td>\n",
       "      <td>3</td>\n",
       "      <td>1</td>\n",
       "      <td>NaN</td>\n",
       "      <td>21</td>\n",
       "      <td>Colony weight</td>\n",
       "      <td>Automatic recording</td>\n",
       "      <td>25.0</td>\n",
       "      <td>G167A</td>\n",
       "      <td>Kilogram</td>\n",
       "      <td>NaN</td>\n",
       "      <td>NaN</td>\n",
       "      <td>NaN</td>\n",
       "      <td>2019-06-30 21:00:00</td>\n",
       "      <td>2019</td>\n",
       "      <td>6</td>\n",
       "    </tr>\n",
       "    <tr>\n",
       "      <th>161249</th>\n",
       "      <td>CW208464</td>\n",
       "      <td>3</td>\n",
       "      <td>1</td>\n",
       "      <td>NaN</td>\n",
       "      <td>20</td>\n",
       "      <td>Colony weight</td>\n",
       "      <td>Automatic recording</td>\n",
       "      <td>25.0</td>\n",
       "      <td>G167A</td>\n",
       "      <td>Kilogram</td>\n",
       "      <td>NaN</td>\n",
       "      <td>NaN</td>\n",
       "      <td>NaN</td>\n",
       "      <td>2019-06-30 20:00:00</td>\n",
       "      <td>2019</td>\n",
       "      <td>6</td>\n",
       "    </tr>\n",
       "    <tr>\n",
       "      <th>161250</th>\n",
       "      <td>CW208463</td>\n",
       "      <td>3</td>\n",
       "      <td>1</td>\n",
       "      <td>NaN</td>\n",
       "      <td>18</td>\n",
       "      <td>Colony weight</td>\n",
       "      <td>Automatic recording</td>\n",
       "      <td>24.8</td>\n",
       "      <td>G167A</td>\n",
       "      <td>Kilogram</td>\n",
       "      <td>NaN</td>\n",
       "      <td>NaN</td>\n",
       "      <td>NaN</td>\n",
       "      <td>2019-06-30 18:00:00</td>\n",
       "      <td>2019</td>\n",
       "      <td>6</td>\n",
       "    </tr>\n",
       "  </tbody>\n",
       "</table>\n",
       "</div>"
      ],
      "text/plain": [
       "           resId  siteNo  hiveNo frameNo  hour      paramText  \\\n",
       "161245  CW208467       3       1     NaN    23  Colony weight   \n",
       "161246  CW208466       3       1     NaN    22  Colony weight   \n",
       "161247  CW208465       3       1     NaN    21  Colony weight   \n",
       "161249  CW208464       3       1     NaN    20  Colony weight   \n",
       "161250  CW208463       3       1     NaN    18  Colony weight   \n",
       "\n",
       "                 anMethText  resVal resUnit resUnit_desc  resValUncert  \\\n",
       "161245  Automatic recording    24.9   G167A     Kilogram           NaN   \n",
       "161246  Automatic recording    24.9   G167A     Kilogram           NaN   \n",
       "161247  Automatic recording    25.0   G167A     Kilogram           NaN   \n",
       "161249  Automatic recording    25.0   G167A     Kilogram           NaN   \n",
       "161250  Automatic recording    24.8   G167A     Kilogram           NaN   \n",
       "\n",
       "        resValUncertSD  resQualValue                date  year  month  \n",
       "161245             NaN           NaN 2019-06-30 23:00:00  2019      6  \n",
       "161246             NaN           NaN 2019-06-30 22:00:00  2019      6  \n",
       "161247             NaN           NaN 2019-06-30 21:00:00  2019      6  \n",
       "161249             NaN           NaN 2019-06-30 20:00:00  2019      6  \n",
       "161250             NaN           NaN 2019-06-30 18:00:00  2019      6  "
      ]
     },
     "execution_count": 21,
     "metadata": {},
     "output_type": "execute_result"
    }
   ],
   "source": [
    "panj.head()\n",
    "####"
   ]
  },
  {
   "cell_type": "code",
   "execution_count": 15,
   "metadata": {},
   "outputs": [
    {
     "data": {
      "text/html": [
       "<div>\n",
       "<style scoped>\n",
       "    .dataframe tbody tr th:only-of-type {\n",
       "        vertical-align: middle;\n",
       "    }\n",
       "\n",
       "    .dataframe tbody tr th {\n",
       "        vertical-align: top;\n",
       "    }\n",
       "\n",
       "    .dataframe thead th {\n",
       "        text-align: right;\n",
       "    }\n",
       "</style>\n",
       "<table border=\"1\" class=\"dataframe\">\n",
       "  <thead>\n",
       "    <tr style=\"text-align: right;\">\n",
       "      <th></th>\n",
       "      <th>eventType</th>\n",
       "      <th>inoutType</th>\n",
       "      <th>inoutQuantity</th>\n",
       "      <th>inoutUnit</th>\n",
       "      <th>inoutUnit_desc</th>\n",
       "      <th>clinicalSigns</th>\n",
       "      <th>eventDescription</th>\n",
       "      <th>date</th>\n",
       "      <th>year</th>\n",
       "      <th>month</th>\n",
       "    </tr>\n",
       "  </thead>\n",
       "  <tbody>\n",
       "    <tr>\n",
       "      <th>94</th>\n",
       "      <td>INPUT</td>\n",
       "      <td>Queen excluder</td>\n",
       "      <td>0.800</td>\n",
       "      <td>G167A</td>\n",
       "      <td>Kilogram</td>\n",
       "      <td>No clinical signs</td>\n",
       "      <td>NaN</td>\n",
       "      <td>2019-06-28</td>\n",
       "      <td>2019</td>\n",
       "      <td>6</td>\n",
       "    </tr>\n",
       "    <tr>\n",
       "      <th>1754</th>\n",
       "      <td>OUTPUT</td>\n",
       "      <td>Brood comb</td>\n",
       "      <td>0.231</td>\n",
       "      <td>G167A</td>\n",
       "      <td>Kilogram</td>\n",
       "      <td>No clinical signs</td>\n",
       "      <td>NaN</td>\n",
       "      <td>2019-06-12</td>\n",
       "      <td>2019</td>\n",
       "      <td>6</td>\n",
       "    </tr>\n",
       "  </tbody>\n",
       "</table>\n",
       "</div>"
      ],
      "text/plain": [
       "     eventType       inoutType  inoutQuantity inoutUnit inoutUnit_desc  \\\n",
       "94       INPUT  Queen excluder          0.800     G167A       Kilogram   \n",
       "1754    OUTPUT      Brood comb          0.231     G167A       Kilogram   \n",
       "\n",
       "          clinicalSigns eventDescription       date  year  month  \n",
       "94    No clinical signs              NaN 2019-06-28  2019      6  \n",
       "1754  No clinical signs              NaN 2019-06-12  2019      6  "
      ]
     },
     "execution_count": 15,
     "metadata": {},
     "output_type": "execute_result"
    }
   ],
   "source": [
    "dnevnik.head()"
   ]
  },
  {
   "cell_type": "code",
   "execution_count": 16,
   "metadata": {},
   "outputs": [],
   "source": [
    "#def cebelarski_dnevnik(dataframe_dnevnika, df_teze):\n",
    "  #Prilagodi vse nadaljne meritve v df_teze glede na input/output na določen datum dnevnika.\n",
    "  #Npr. če 1. maja. 10:00 doda čebelar dva panela v teži 5 kg, prilagodimo vse teže od te meritve naprej -5kg\n",
    "  #Dodatek če je sprememba lokalna (npr. dodatek hrane? [niti ne vem kaj bi lahko bilo]) in dodatek argumenta v funkcijo v kakšnem oknu vpliva. Tega še ni treba razmišljati, najprej ostalo"
   ]
  },
  {
   "cell_type": "code",
   "execution_count": 17,
   "metadata": {},
   "outputs": [
    {
     "data": {
      "text/plain": [
       "'panj = cebelarski_dnevnik(panj, ...)'"
      ]
     },
     "execution_count": 17,
     "metadata": {},
     "output_type": "execute_result"
    }
   ],
   "source": [
    "\"\"\"panj = cebelarski_dnevnik(panj, ...)\"\"\""
   ]
  },
  {
   "cell_type": "code",
   "execution_count": 18,
   "metadata": {},
   "outputs": [
    {
     "data": {
      "image/png": "[encoded data removed]",
      "text/plain": [
       "<Figure size 640x480 with 1 Axes>"
      ]
     },
     "metadata": {},
     "output_type": "display_data"
    }
   ],
   "source": [
    "plt.plot(panj['date'], panj['resVal'], '-')\n",
    "plt.xticks(panj['date'][::50],  rotation='vertical')\n",
    "#dodamo plotu oznako, kjer smo dodali / odvzeli tezo\n",
    "plt.show()"
   ]
  },
  {
   "cell_type": "code",
   "execution_count": 19,
   "metadata": {},
   "outputs": [],
   "source": [
    "#panj_.to_pickle(\"./panj_outlier+dnevnik.pkl\")"
   ]
  }
 ],
 "metadata": {
  "kernelspec": {
   "display_name": "Python 3",
   "language": "python",
   "name": "python3"
  },
  "language_info": {
   "codemirror_mode": {
    "name": "ipython",
    "version": 3
   },
   "file_extension": ".py",
   "mimetype": "text/x-python",
   "name": "python",
   "nbconvert_exporter": "python",
   "pygments_lexer": "ipython3",
   "version": "3.11.4"
  },
  "orig_nbformat": 4
 },
 "nbformat": 4,
 "nbformat_minor": 2
}
