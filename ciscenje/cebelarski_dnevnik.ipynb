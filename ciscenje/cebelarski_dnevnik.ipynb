{
 "cells": [
  {
   "cell_type": "code",
   "execution_count": 31,
   "metadata": {},
   "outputs": [],
   "source": [
    "import numpy as np\n",
    "import pandas as pd\n",
    "import glob\n",
    "import matplotlib.pyplot as plt\n",
    "import requests\n",
    "from datetime import datetime\n",
    "import seaborn as sns\n",
    "import os.path\n",
    "#from scikit import LocalOutlierFactor"
   ]
  },
  {
   "cell_type": "code",
   "execution_count": 32,
   "metadata": {},
   "outputs": [],
   "source": [
    "panj = pd.read_pickle(\"./panj_outlier.pkl\")  \n",
    "dnevnik = pd.read_pickle('./dnevnik_cleaned.pkl')\n",
    "vreme = pd.read_pickle('./vreme_cleaned.pkl')\n",
    "#window = en teden"
   ]
  },
  {
   "cell_type": "code",
   "execution_count": 33,
   "metadata": {},
   "outputs": [],
   "source": [
    "panj['year'] = panj['date'].dt.year\n",
    "panj['month'] = panj['date'].dt.month\n",
    "panj = panj.loc[panj['month'] == 6]\n",
    "panj = panj.loc[panj['year'] == 2019]\n",
    "\n",
    "dnevnik['year'] = dnevnik['date'].dt.year\n",
    "dnevnik['month'] = dnevnik['date'].dt.month\n",
    "dnevnik = dnevnik.loc[dnevnik['month'] == 6]\n",
    "dnevnik = dnevnik.loc[dnevnik['year'] == 2019]"
   ]
  },
  {
   "cell_type": "code",
   "execution_count": 34,
   "metadata": {},
   "outputs": [
    {
     "data": {
      "text/html": [
       "<div>\n",
       "<style scoped>\n",
       "    .dataframe tbody tr th:only-of-type {\n",
       "        vertical-align: middle;\n",
       "    }\n",
       "\n",
       "    .dataframe tbody tr th {\n",
       "        vertical-align: top;\n",
       "    }\n",
       "\n",
       "    .dataframe thead th {\n",
       "        text-align: right;\n",
       "    }\n",
       "</style>\n",
       "<table border=\"1\" class=\"dataframe\">\n",
       "  <thead>\n",
       "    <tr style=\"text-align: right;\">\n",
       "      <th></th>\n",
       "      <th>resId</th>\n",
       "      <th>siteNo</th>\n",
       "      <th>hiveNo</th>\n",
       "      <th>frameNo</th>\n",
       "      <th>hour</th>\n",
       "      <th>paramText</th>\n",
       "      <th>anMethText</th>\n",
       "      <th>resVal</th>\n",
       "      <th>resUnit</th>\n",
       "      <th>resUnit_desc</th>\n",
       "      <th>resValUncert</th>\n",
       "      <th>resValUncertSD</th>\n",
       "      <th>resQualValue</th>\n",
       "      <th>date</th>\n",
       "      <th>year</th>\n",
       "      <th>month</th>\n",
       "    </tr>\n",
       "  </thead>\n",
       "  <tbody>\n",
       "    <tr>\n",
       "      <th>162858</th>\n",
       "      <td>CW207781</td>\n",
       "      <td>3</td>\n",
       "      <td>1</td>\n",
       "      <td>NaN</td>\n",
       "      <td>0</td>\n",
       "      <td>Colony weight</td>\n",
       "      <td>Automatic recording</td>\n",
       "      <td>24.6</td>\n",
       "      <td>G167A</td>\n",
       "      <td>Kilogram</td>\n",
       "      <td>NaN</td>\n",
       "      <td>NaN</td>\n",
       "      <td>NaN</td>\n",
       "      <td>2019-06-01 00:00:00</td>\n",
       "      <td>2019</td>\n",
       "      <td>6</td>\n",
       "    </tr>\n",
       "    <tr>\n",
       "      <th>162857</th>\n",
       "      <td>CW207782</td>\n",
       "      <td>3</td>\n",
       "      <td>1</td>\n",
       "      <td>NaN</td>\n",
       "      <td>1</td>\n",
       "      <td>Colony weight</td>\n",
       "      <td>Automatic recording</td>\n",
       "      <td>24.6</td>\n",
       "      <td>G167A</td>\n",
       "      <td>Kilogram</td>\n",
       "      <td>NaN</td>\n",
       "      <td>NaN</td>\n",
       "      <td>NaN</td>\n",
       "      <td>2019-06-01 01:00:00</td>\n",
       "      <td>2019</td>\n",
       "      <td>6</td>\n",
       "    </tr>\n",
       "    <tr>\n",
       "      <th>162855</th>\n",
       "      <td>CW207783</td>\n",
       "      <td>3</td>\n",
       "      <td>1</td>\n",
       "      <td>NaN</td>\n",
       "      <td>2</td>\n",
       "      <td>Colony weight</td>\n",
       "      <td>Automatic recording</td>\n",
       "      <td>24.5</td>\n",
       "      <td>G167A</td>\n",
       "      <td>Kilogram</td>\n",
       "      <td>NaN</td>\n",
       "      <td>NaN</td>\n",
       "      <td>NaN</td>\n",
       "      <td>2019-06-01 02:00:00</td>\n",
       "      <td>2019</td>\n",
       "      <td>6</td>\n",
       "    </tr>\n",
       "    <tr>\n",
       "      <th>162854</th>\n",
       "      <td>CW207784</td>\n",
       "      <td>3</td>\n",
       "      <td>1</td>\n",
       "      <td>NaN</td>\n",
       "      <td>3</td>\n",
       "      <td>Colony weight</td>\n",
       "      <td>Automatic recording</td>\n",
       "      <td>24.5</td>\n",
       "      <td>G167A</td>\n",
       "      <td>Kilogram</td>\n",
       "      <td>NaN</td>\n",
       "      <td>NaN</td>\n",
       "      <td>NaN</td>\n",
       "      <td>2019-06-01 03:00:00</td>\n",
       "      <td>2019</td>\n",
       "      <td>6</td>\n",
       "    </tr>\n",
       "    <tr>\n",
       "      <th>162853</th>\n",
       "      <td>CW207785</td>\n",
       "      <td>3</td>\n",
       "      <td>1</td>\n",
       "      <td>NaN</td>\n",
       "      <td>4</td>\n",
       "      <td>Colony weight</td>\n",
       "      <td>Automatic recording</td>\n",
       "      <td>24.5</td>\n",
       "      <td>G167A</td>\n",
       "      <td>Kilogram</td>\n",
       "      <td>NaN</td>\n",
       "      <td>NaN</td>\n",
       "      <td>NaN</td>\n",
       "      <td>2019-06-01 04:00:00</td>\n",
       "      <td>2019</td>\n",
       "      <td>6</td>\n",
       "    </tr>\n",
       "  </tbody>\n",
       "</table>\n",
       "</div>"
      ],
      "text/plain": [
       "           resId  siteNo  hiveNo frameNo  hour      paramText  \\\n",
       "162858  CW207781       3       1     NaN     0  Colony weight   \n",
       "162857  CW207782       3       1     NaN     1  Colony weight   \n",
       "162855  CW207783       3       1     NaN     2  Colony weight   \n",
       "162854  CW207784       3       1     NaN     3  Colony weight   \n",
       "162853  CW207785       3       1     NaN     4  Colony weight   \n",
       "\n",
       "                 anMethText  resVal resUnit resUnit_desc  resValUncert  \\\n",
       "162858  Automatic recording    24.6   G167A     Kilogram           NaN   \n",
       "162857  Automatic recording    24.6   G167A     Kilogram           NaN   \n",
       "162855  Automatic recording    24.5   G167A     Kilogram           NaN   \n",
       "162854  Automatic recording    24.5   G167A     Kilogram           NaN   \n",
       "162853  Automatic recording    24.5   G167A     Kilogram           NaN   \n",
       "\n",
       "        resValUncertSD  resQualValue                date  year  month  \n",
       "162858             NaN           NaN 2019-06-01 00:00:00  2019      6  \n",
       "162857             NaN           NaN 2019-06-01 01:00:00  2019      6  \n",
       "162855             NaN           NaN 2019-06-01 02:00:00  2019      6  \n",
       "162854             NaN           NaN 2019-06-01 03:00:00  2019      6  \n",
       "162853             NaN           NaN 2019-06-01 04:00:00  2019      6  "
      ]
     },
     "execution_count": 34,
     "metadata": {},
     "output_type": "execute_result"
    }
   ],
   "source": [
    "panj.head()\n",
    "####"
   ]
  },
  {
   "cell_type": "code",
   "execution_count": 35,
   "metadata": {},
   "outputs": [
    {
     "data": {
      "text/html": [
       "<div>\n",
       "<style scoped>\n",
       "    .dataframe tbody tr th:only-of-type {\n",
       "        vertical-align: middle;\n",
       "    }\n",
       "\n",
       "    .dataframe tbody tr th {\n",
       "        vertical-align: top;\n",
       "    }\n",
       "\n",
       "    .dataframe thead th {\n",
       "        text-align: right;\n",
       "    }\n",
       "</style>\n",
       "<table border=\"1\" class=\"dataframe\">\n",
       "  <thead>\n",
       "    <tr style=\"text-align: right;\">\n",
       "      <th></th>\n",
       "      <th>eventType</th>\n",
       "      <th>inoutType</th>\n",
       "      <th>inoutQuantity</th>\n",
       "      <th>inoutUnit</th>\n",
       "      <th>inoutUnit_desc</th>\n",
       "      <th>clinicalSigns</th>\n",
       "      <th>eventDescription</th>\n",
       "      <th>date</th>\n",
       "      <th>year</th>\n",
       "      <th>month</th>\n",
       "    </tr>\n",
       "  </thead>\n",
       "  <tbody>\n",
       "    <tr>\n",
       "      <th>94</th>\n",
       "      <td>INPUT</td>\n",
       "      <td>Queen excluder</td>\n",
       "      <td>0.800</td>\n",
       "      <td>G167A</td>\n",
       "      <td>Kilogram</td>\n",
       "      <td>No clinical signs</td>\n",
       "      <td>NaN</td>\n",
       "      <td>2019-06-28</td>\n",
       "      <td>2019</td>\n",
       "      <td>6</td>\n",
       "    </tr>\n",
       "    <tr>\n",
       "      <th>1754</th>\n",
       "      <td>OUTPUT</td>\n",
       "      <td>Brood comb</td>\n",
       "      <td>0.231</td>\n",
       "      <td>G167A</td>\n",
       "      <td>Kilogram</td>\n",
       "      <td>No clinical signs</td>\n",
       "      <td>NaN</td>\n",
       "      <td>2019-06-12</td>\n",
       "      <td>2019</td>\n",
       "      <td>6</td>\n",
       "    </tr>\n",
       "  </tbody>\n",
       "</table>\n",
       "</div>"
      ],
      "text/plain": [
       "     eventType       inoutType  inoutQuantity inoutUnit inoutUnit_desc  \\\n",
       "94       INPUT  Queen excluder          0.800     G167A       Kilogram   \n",
       "1754    OUTPUT      Brood comb          0.231     G167A       Kilogram   \n",
       "\n",
       "          clinicalSigns eventDescription       date  year  month  \n",
       "94    No clinical signs              NaN 2019-06-28  2019      6  \n",
       "1754  No clinical signs              NaN 2019-06-12  2019      6  "
      ]
     },
     "execution_count": 35,
     "metadata": {},
     "output_type": "execute_result"
    }
   ],
   "source": [
    "dnevnik.head()"
   ]
  },
  {
   "cell_type": "code",
   "execution_count": 36,
   "metadata": {},
   "outputs": [
    {
     "name": "stdout",
     "output_type": "stream",
     "text": [
      "RangeIndex(start=0, stop=2, step=1)\n",
      "RangeIndex(start=0, stop=614, step=1)\n",
      "2019\n",
      "0      24.6\n",
      "1      24.6\n",
      "2      24.5\n",
      "3      24.5\n",
      "4      24.5\n",
      "       ... \n",
      "609    24.8\n",
      "610    25.0\n",
      "611    25.0\n",
      "612    24.9\n",
      "613    24.9\n",
      "Name: resVal, Length: 614, dtype: float64\n"
     ]
    }
   ],
   "source": [
    "panj = panj.reset_index()\n",
    "dnevnik = dnevnik.reset_index()\n",
    "print(dnevnik.index)\n",
    "print(panj.index)\n",
    "print(panj.iloc[2]['year'])\n",
    "print(panj.loc[:, 'resVal'])"
   ]
  },
  {
   "cell_type": "code",
   "execution_count": 37,
   "metadata": {},
   "outputs": [],
   "source": [
    "#def cebelarski_dnevnik(dataframe_dnevnika, df_teze):\n",
    "  #Prilagodi vse nadaljne meritve v df_teze glede na input/output na določen datum dnevnika.\n",
    "  #Npr. če 1. maja. 10:00 doda čebelar dva panela v teži 5 kg, prilagodimo vse teže od te meritve naprej -5kg\n",
    "  #Dodatek če je sprememba lokalna (npr. dodatek hrane? [niti ne vem kaj bi lahko bilo]) in dodatek argumenta v funkcijo v kakšnem oknu vpliva. Tega še ni treba razmišljati, najprej ostalo"
   ]
  },
  {
   "cell_type": "code",
   "execution_count": 38,
   "metadata": {},
   "outputs": [
    {
     "data": {
      "text/plain": [
       "'panj = cebelarski_dnevnik(panj, ...)'"
      ]
     },
     "execution_count": 38,
     "metadata": {},
     "output_type": "execute_result"
    }
   ],
   "source": [
    "\"\"\"panj = cebelarski_dnevnik(panj, ...)\"\"\""
   ]
  },
  {
   "cell_type": "code",
   "execution_count": 39,
   "metadata": {},
   "outputs": [
    {
     "data": {
      "image/png": "[encoded data removed]",
      "text/plain": [
       "<Figure size 640x480 with 1 Axes>"
      ]
     },
     "metadata": {},
     "output_type": "display_data"
    }
   ],
   "source": [
    "plt.plot(panj['date'], panj['resVal'], '-')\n",
    "plt.xticks(panj['date'][::50],  rotation='vertical')\n",
    "#dodamo plotu oznako, kjer smo dodali / odvzeli tezo\n",
    "plt.show()"
   ]
  },
  {
   "cell_type": "code",
   "execution_count": 40,
   "metadata": {},
   "outputs": [],
   "source": [
    "#panj_.to_pickle(\"./panj_outlier+dnevnik.pkl\")"
   ]
  },
  {
   "cell_type": "code",
   "execution_count": 41,
   "metadata": {},
   "outputs": [
    {
     "name": "stdout",
     "output_type": "stream",
     "text": [
      "      index     resId  siteNo  hiveNo frameNo  hour      paramText  \\\n",
      "0    162858  CW207781       3       1     NaN     0  Colony weight   \n",
      "1    162857  CW207782       3       1     NaN     1  Colony weight   \n",
      "2    162855  CW207783       3       1     NaN     2  Colony weight   \n",
      "3    162854  CW207784       3       1     NaN     3  Colony weight   \n",
      "4    162853  CW207785       3       1     NaN     4  Colony weight   \n",
      "..      ...       ...     ...     ...     ...   ...            ...   \n",
      "609  161250  CW208463       3       1     NaN    18  Colony weight   \n",
      "610  161249  CW208464       3       1     NaN    20  Colony weight   \n",
      "611  161247  CW208465       3       1     NaN    21  Colony weight   \n",
      "612  161246  CW208466       3       1     NaN    22  Colony weight   \n",
      "613  161245  CW208467       3       1     NaN    23  Colony weight   \n",
      "\n",
      "              anMethText  resVal resUnit resUnit_desc  resValUncert  \\\n",
      "0    Automatic recording    24.6   G167A     Kilogram           NaN   \n",
      "1    Automatic recording    24.6   G167A     Kilogram           NaN   \n",
      "2    Automatic recording    24.5   G167A     Kilogram           NaN   \n",
      "3    Automatic recording    24.5   G167A     Kilogram           NaN   \n",
      "4    Automatic recording    24.5   G167A     Kilogram           NaN   \n",
      "..                   ...     ...     ...          ...           ...   \n",
      "609  Automatic recording    24.8   G167A     Kilogram           NaN   \n",
      "610  Automatic recording    25.0   G167A     Kilogram           NaN   \n",
      "611  Automatic recording    25.0   G167A     Kilogram           NaN   \n",
      "612  Automatic recording    24.9   G167A     Kilogram           NaN   \n",
      "613  Automatic recording    24.9   G167A     Kilogram           NaN   \n",
      "\n",
      "     resValUncertSD  resQualValue                date  year  month  \n",
      "0               NaN           NaN 2019-06-01 00:00:00  2019      6  \n",
      "1               NaN           NaN 2019-06-01 01:00:00  2019      6  \n",
      "2               NaN           NaN 2019-06-01 02:00:00  2019      6  \n",
      "3               NaN           NaN 2019-06-01 03:00:00  2019      6  \n",
      "4               NaN           NaN 2019-06-01 04:00:00  2019      6  \n",
      "..              ...           ...                 ...   ...    ...  \n",
      "609             NaN           NaN 2019-06-30 18:00:00  2019      6  \n",
      "610             NaN           NaN 2019-06-30 20:00:00  2019      6  \n",
      "611             NaN           NaN 2019-06-30 21:00:00  2019      6  \n",
      "612             NaN           NaN 2019-06-30 22:00:00  2019      6  \n",
      "613             NaN           NaN 2019-06-30 23:00:00  2019      6  \n",
      "\n",
      "[614 rows x 17 columns]\n"
     ]
    }
   ],
   "source": [
    "print(panj)"
   ]
  },
  {
   "cell_type": "code",
   "execution_count": 42,
   "metadata": {},
   "outputs": [
    {
     "name": "stdout",
     "output_type": "stream",
     "text": [
      "0     INPUT\n",
      "1    OUTPUT\n",
      "Name: eventType, dtype: object\n"
     ]
    }
   ],
   "source": [
    "a = dnevnik.loc[:, 'eventType']\n",
    "print(a)"
   ]
  },
  {
   "cell_type": "code",
   "execution_count": 43,
   "metadata": {},
   "outputs": [],
   "source": [
    "def odstranjeni_posegi():\n",
    "    for i in dnevnik[:, 'eventType']:\n",
    "        if i == 'INPUT':\n",
    "            datum = dnevnik['date'][panj.loc[panj['date'] == 'a' ]]\n",
    "            for j in panj['resVal']:\n",
    "                if panj['date'][j] >= datum:\n",
    "                    panj['resVal'][j] - dnevnik['inoutQuantity'][i]\n",
    "        elif i == 'OUTPUT':\n",
    "            datum = dnevnik['date'][i]\n",
    "            for j in panj['resVal']:\n",
    "                if panj['date'][j] >= datum:\n",
    "                    panj['resVal'][j] + dnevnik['inoutQuantity'][i]\n",
    "    \n",
    "    \n",
    "# plt.plot(panj['date'], panj['resVal'], '-')\n",
    "# plt.xticks(panj['date'][::50],  rotation='vertical')\n",
    "# #dodamo plotu oznako, kjer smo dodali / odvzeli tezo\n",
    "# plt.show()\n"
   ]
  }
 ],
 "metadata": {
  "kernelspec": {
   "display_name": "Python 3",
   "language": "python",
   "name": "python3"
  },
  "language_info": {
   "codemirror_mode": {
    "name": "ipython",
    "version": 3
   },
   "file_extension": ".py",
   "mimetype": "text/x-python",
   "name": "python",
   "nbconvert_exporter": "python",
   "pygments_lexer": "ipython3",
   "version": "3.10.8"
  },
  "orig_nbformat": 4
 },
 "nbformat": 4,
 "nbformat_minor": 2
}
