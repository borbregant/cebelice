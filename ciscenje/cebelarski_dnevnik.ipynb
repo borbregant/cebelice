{
 "cells": [
  {
   "cell_type": "code",
   "execution_count": null,
   "metadata": {},
   "outputs": [],
   "source": [
    "def cebelarski_dnevnik(dataframe_dnevnika, df_teze):\n",
    "  #Prilagodi vse nadaljne meritve v df_teze glede na input/output na določen datum dnevnika.\n",
    "  #Npr. če 1. maja. 10:00 doda čebelar dva panela v teži 5 kg, prilagodimo vse teže od te meritve naprej -5kg\n",
    "  #Dodatek če je sprememba lokalna (npr. dodatek hrane? [niti ne vem kaj bi lahko bilo]) in dodatek argumenta v funkcijo v kakšnem oknu vpliva. Tega še ni treba razmišljati, najprej ostalo"
   ]
  }
 ],
 "metadata": {
  "kernelspec": {
   "display_name": "Python 3",
   "language": "python",
   "name": "python3"
  },
  "language_info": {
   "name": "python",
   "version": "3.11.4"
  },
  "orig_nbformat": 4
 },
 "nbformat": 4,
 "nbformat_minor": 2
}
